{
 "cells": [
  {
   "cell_type": "code",
   "execution_count": 1,
   "id": "47b30d4b",
   "metadata": {},
   "outputs": [
    {
     "name": "stderr",
     "output_type": "stream",
     "text": [
      "2025-08-22 13:11:32.927551: W tensorflow/stream_executor/platform/default/dso_loader.cc:64] Could not load dynamic library 'libcudart.so.11.0'; dlerror: libcudart.so.11.0: cannot open shared object file: No such file or directory\n",
      "2025-08-22 13:11:32.927570: I tensorflow/stream_executor/cuda/cudart_stub.cc:29] Ignore above cudart dlerror if you do not have a GPU set up on your machine.\n",
      "/home/julius/miniconda3/envs/atml/lib/python3.9/site-packages/tensorflow_addons/utils/tfa_eol_msg.py:23: UserWarning: \n",
      "\n",
      "TensorFlow Addons (TFA) has ended development and introduction of new features.\n",
      "TFA has entered a minimal maintenance and release mode until a planned end of life in May 2024.\n",
      "Please modify downstream libraries to take dependencies from other repositories in our TensorFlow community (e.g. Keras, Keras-CV, and Keras-NLP). \n",
      "\n",
      "For more information see: https://github.com/tensorflow/addons/issues/2807 \n",
      "\n",
      "  warnings.warn(\n",
      "/home/julius/miniconda3/envs/atml/lib/python3.9/site-packages/tensorflow_addons/utils/ensure_tf_install.py:53: UserWarning: Tensorflow Addons supports using Python ops for all Tensorflow versions above or equal to 2.13.0 and strictly below 2.16.0 (nightly versions are not supported). \n",
      " The versions of TensorFlow you are currently using is 2.8.4 and is not supported. \n",
      "Some things might work, some things might not.\n",
      "If you were to encounter a bug, do not file an issue.\n",
      "If you want to make sure you're using a tested and supported configuration, either change the TensorFlow version or the TensorFlow Addons's version. \n",
      "You can find the compatibility matrix in TensorFlow Addon's readme:\n",
      "https://github.com/tensorflow/addons\n",
      "  warnings.warn(\n",
      "/home/julius/miniconda3/envs/atml/lib/python3.9/site-packages/tqdm/auto.py:21: TqdmWarning: IProgress not found. Please update jupyter and ipywidgets. See https://ipywidgets.readthedocs.io/en/stable/user_install.html\n",
      "  from .autonotebook import tqdm as notebook_tqdm\n"
     ]
    },
    {
     "name": "stdout",
     "output_type": "stream",
     "text": [
      "TensorFlow Version: 2.8.4\n",
      "Model Maker Version: 0.4.3\n"
     ]
    }
   ],
   "source": [
    "import os\n",
    "import glob\n",
    "import random\n",
    "import shutil\n",
    "\n",
    "import librosa\n",
    "import soundfile as sf\n",
    "from IPython.display import Audio\n",
    "import numpy as np\n",
    "import matplotlib.pyplot as plt\n",
    "import seaborn as sns\n",
    "\n",
    "import tensorflow as tf\n",
    "import tflite_model_maker as mm\n",
    "from tflite_model_maker import audio_classifier\n",
    "from tflite_model_maker.config import ExportFormat\n",
    "\n",
    "print(f\"TensorFlow Version: {tf.__version__}\")\n",
    "print(f\"Model Maker Version: {mm.__version__}\")"
   ]
  },
  {
   "cell_type": "code",
   "execution_count": 3,
   "id": "a6eb5390",
   "metadata": {},
   "outputs": [
    {
     "name": "stderr",
     "output_type": "stream",
     "text": [
      "\u001b[34m\u001b[1mwandb\u001b[0m: Currently logged in as: \u001b[33mjfmwi\u001b[0m (\u001b[33mjfmwi-sailor\u001b[0m) to \u001b[32mhttps://api.wandb.ai\u001b[0m. Use \u001b[1m`wandb login --relogin`\u001b[0m to force relogin\n"
     ]
    },
    {
     "data": {
      "text/html": [
       "Tracking run with wandb version 0.21.1"
      ],
      "text/plain": [
       "<IPython.core.display.HTML object>"
      ]
     },
     "metadata": {},
     "output_type": "display_data"
    },
    {
     "data": {
      "text/html": [
       "Run data is saved locally in <code>/home/julius/Documents/ml_summerschool/wandb/run-20250822_131204-wuv3m6jl</code>"
      ],
      "text/plain": [
       "<IPython.core.display.HTML object>"
      ]
     },
     "metadata": {},
     "output_type": "display_data"
    },
    {
     "data": {
      "text/html": [
       "Syncing run <strong><a href='https://wandb.ai/jfmwi-sailor/MLOPS%20/runs/wuv3m6jl' target=\"_blank\">effortless-breeze-2</a></strong> to <a href='https://wandb.ai/jfmwi-sailor/MLOPS%20' target=\"_blank\">Weights & Biases</a> (<a href='https://wandb.me/developer-guide' target=\"_blank\">docs</a>)<br>"
      ],
      "text/plain": [
       "<IPython.core.display.HTML object>"
      ]
     },
     "metadata": {},
     "output_type": "display_data"
    },
    {
     "data": {
      "text/html": [
       " View project at <a href='https://wandb.ai/jfmwi-sailor/MLOPS%20' target=\"_blank\">https://wandb.ai/jfmwi-sailor/MLOPS%20</a>"
      ],
      "text/plain": [
       "<IPython.core.display.HTML object>"
      ]
     },
     "metadata": {},
     "output_type": "display_data"
    },
    {
     "data": {
      "text/html": [
       " View run at <a href='https://wandb.ai/jfmwi-sailor/MLOPS%20/runs/wuv3m6jl' target=\"_blank\">https://wandb.ai/jfmwi-sailor/MLOPS%20/runs/wuv3m6jl</a>"
      ],
      "text/plain": [
       "<IPython.core.display.HTML object>"
      ]
     },
     "metadata": {},
     "output_type": "display_data"
    }
   ],
   "source": [
    "import wandb\n",
    "from wandb.integration.keras import WandbCallback\n",
    "\n",
    "run = wandb.init(\n",
    "    entity = 'jfmwi-sailor',\n",
    "    project = 'MLOPS',\n",
    "    config = {\n",
    "        'learning_rate': 0.1,\n",
    "        'architecture': 'CNN',\n",
    "        'dataset': 'custom voice data',\n",
    "        'epochs': 32,\n",
    "        'batch_size': 16\n",
    "    }\n",
    ")"
   ]
  },
  {
   "cell_type": "code",
   "execution_count": 4,
   "id": "7f7fb1d4",
   "metadata": {},
   "outputs": [],
   "source": [
    "use_custom_dataset = True\n",
    "if use_custom_dataset:\n",
    "  # Specify the ZIP file you uploaded:\n",
    "  #!unzip YOUR-FILENAME.zip\n",
    "  # Specify the unzipped path to your custom dataset\n",
    "  # (this path contains all the subfolders with classification names):\n",
    "  dataset_dir = './data'\n",
    "  background_dir = './data/background'\n",
    "  test_dir = './dataset-test'\n",
    "  sample_dir = './dataset-test'"
   ]
  },
  {
   "cell_type": "code",
   "execution_count": 5,
   "id": "1efdf1f1",
   "metadata": {},
   "outputs": [],
   "source": [
    "def get_random_audio_file(samples_dir):\n",
    "  files = os.path.abspath(os.path.join(samples_dir, '*/*.wav'))\n",
    "  files_list = glob.glob(files)\n",
    "  random_audio_path = random.choice(files_list)\n",
    "  return random_audio_path\n",
    "\n",
    "def show_sample(audio_path):\n",
    "  audio_data, sample_rate = sf.read(audio_path)\n",
    "  class_name = os.path.basename(os.path.dirname(audio_path))\n",
    "  print(f'Class: {class_name}')\n",
    "  print(f'File: {audio_path}')\n",
    "  print(f'Sample rate: {sample_rate}')\n",
    "  print(f'Sample length: {len(audio_data)}')\n",
    "\n",
    "  plt.title(class_name)\n",
    "  plt.plot(audio_data)\n",
    "  display(Audio(audio_data, rate=sample_rate))"
   ]
  },
  {
   "cell_type": "code",
   "execution_count": 6,
   "id": "5104f925",
   "metadata": {},
   "outputs": [
    {
     "name": "stdout",
     "output_type": "stream",
     "text": [
      "Class: background\n",
      "File: /home/julius/Documents/ml_summerschool/dataset-test/background/151bfb79_nohash_1.wav\n",
      "Sample rate: 16000\n",
      "Sample length: 16000\n"
     ]
    },
    {
     "data": {
      "text/html": [
       "\n",
       "                <audio  controls=\"controls\" >\n",
       "                    <source src=\"data:audio/wav;base64,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\" type=\"audio/wav\" />\n",
       "                    Your browser does not support the audio element.\n",
       "                </audio>\n",
       "              "
      ],
      "text/plain": [
       "<IPython.lib.display.Audio object>"
      ]
     },
     "metadata": {},
     "output_type": "display_data"
    },
    {
     "data": {
      "image/png": "[encoded data removed]",
      "text/plain": [
       "<Figure size 640x480 with 1 Axes>"
      ]
     },
     "metadata": {},
     "output_type": "display_data"
    }
   ],
   "source": [
    "random_audio = get_random_audio_file(test_dir)\n",
    "show_sample(random_audio)"
   ]
  },
  {
   "cell_type": "code",
   "execution_count": 7,
   "id": "b313c26f",
   "metadata": {},
   "outputs": [
    {
     "name": "stdout",
     "output_type": "stream",
     "text": [
      "INFO:tensorflow:Checkpoints are stored in /tmp/tmp8l4aq_d_\n",
      "WARNING:tensorflow:SavedModel saved prior to TF 2.5 detected when loading Keras model. Please ensure that you are saving the model with model.save() or tf.keras.models.save_model(), *NOT* tf.saved_model.save(). To confirm, there should be a file named \"keras_metadata.pb\" in the SavedModel directory.\n",
      "WARNING:tensorflow:No training configuration found in save file, so the model was *not* compiled. Compile it manually.\n"
     ]
    },
    {
     "name": "stderr",
     "output_type": "stream",
     "text": [
      "2025-08-22 13:12:11.403770: W tensorflow/stream_executor/platform/default/dso_loader.cc:64] Could not load dynamic library 'libcuda.so.1'; dlerror: libcuda.so.1: cannot open shared object file: No such file or directory; LD_LIBRARY_PATH: /home/julius/miniconda3/envs/atml/lib/python3.9/site-packages/cv2/../../lib64:\n",
      "2025-08-22 13:12:11.403792: W tensorflow/stream_executor/cuda/cuda_driver.cc:269] failed call to cuInit: UNKNOWN ERROR (303)\n",
      "2025-08-22 13:12:11.403803: I tensorflow/stream_executor/cuda/cuda_diagnostics.cc:156] kernel driver does not appear to be running on this host (kubuntu): /proc/driver/nvidia/version does not exist\n",
      "2025-08-22 13:12:11.404010: I tensorflow/core/platform/cpu_feature_guard.cc:151] This TensorFlow binary is optimized with oneAPI Deep Neural Network Library (oneDNN) to use the following CPU instructions in performance-critical operations:  AVX2 FMA\n",
      "To enable them in other operations, rebuild TensorFlow with the appropriate compiler flags.\n"
     ]
    }
   ],
   "source": [
    "spec = audio_classifier.BrowserFftSpec()\n",
    "if use_custom_dataset:\n",
    "  train_data_ratio = 0.8\n",
    "  train_data = audio_classifier.DataLoader.from_folder(\n",
    "      spec, dataset_dir, cache=True)\n",
    "  train_data, validation_data = train_data.split(train_data_ratio)\n",
    "  test_data = audio_classifier.DataLoader.from_folder(\n",
    "      spec, test_dir, cache=True)\n"
   ]
  },
  {
   "cell_type": "code",
   "execution_count": 8,
   "id": "e6cd5b30",
   "metadata": {},
   "outputs": [
    {
     "name": "stdout",
     "output_type": "stream",
     "text": [
      "Model: \"sequential_1\"\n",
      "_________________________________________________________________\n",
      " Layer (type)                Output Shape              Param #   \n",
      "=================================================================\n",
      " conv2d (Conv2D)             (None, 42, 231, 2)        10        \n",
      "                                                                 \n",
      " max_pooling2d (MaxPooling2D  (None, 21, 115, 2)       0         \n",
      " )                                                               \n",
      "                                                                 \n",
      " conv2d_1 (Conv2D)           (None, 20, 114, 2)        18        \n",
      "                                                                 \n",
      " max_pooling2d_1 (MaxPooling  (None, 10, 57, 2)        0         \n",
      " 2D)                                                             \n",
      "                                                                 \n",
      " flatten (Flatten)           (None, 1140)              0         \n",
      "                                                                 \n",
      " dense (Dense)               (None, 5)                 5705      \n",
      "                                                                 \n",
      " dense_1 (Dense)             (None, 2)                 12        \n",
      "                                                                 \n",
      "=================================================================\n",
      "Total params: 5,745\n",
      "Trainable params: 5,745\n",
      "Non-trainable params: 0\n",
      "_________________________________________________________________\n"
     ]
    }
   ],
   "source": [
    "from tensorflow.keras import layers, models\n",
    "import tensorflow as tf\n",
    "\n",
    "def build_small_audio_model(input_shape, num_classes):\n",
    "    model = tf.keras.Sequential([\n",
    "        tf.keras.layers.Input(shape=input_shape),\n",
    "\n",
    "        tf.keras.layers.Conv2D(2, (2,2), activation='relu'),\n",
    "        tf.keras.layers.MaxPooling2D((2, 2)),\n",
    "\n",
    "        tf.keras.layers.Conv2D(2, (2,2), activation='relu'),\n",
    "        tf.keras.layers.MaxPooling2D((2, 2)),\n",
    "\n",
    "        tf.keras.layers.Flatten(),\n",
    "        tf.keras.layers.Dense(5, activation='relu'),\n",
    "        tf.keras.layers.Dense(num_classes, activation='softmax')\n",
    "    ])\n",
    "    \n",
    "    return model\n",
    "\n",
    "input_shape=(43, 232, 1)\n",
    "num_classes = 2\n",
    "\n",
    "model = build_small_audio_model(input_shape, num_classes)\n",
    "model.compile(optimizer=tf.keras.optimizers.Adam(learning_rate=wandb.config.learning_rate),\n",
    "              loss='categorical_crossentropy',\n",
    "              metrics=['accuracy'])\n",
    "\n",
    "def add_channel(x, y):\n",
    "    x = tf.expand_dims(x, axis=-1)  # Shape becomes (43, 232, 1)\n",
    "    return x, y\n",
    "\n",
    "model.summary()\n"
   ]
  },
  {
   "cell_type": "code",
   "execution_count": 9,
   "id": "0623c795",
   "metadata": {},
   "outputs": [
    {
     "name": "stderr",
     "output_type": "stream",
     "text": [
      "\u001b[34m\u001b[1mwandb\u001b[0m: \u001b[33mWARNING\u001b[0m WandbCallback is deprecated and will be removed in a future release. Please use the WandbMetricsLogger, WandbModelCheckpoint, and WandbEvalCallback callbacks instead. See https://docs.wandb.ai/guides/integrations/keras for more information.\n",
      "\u001b[34m\u001b[1mwandb\u001b[0m: \u001b[33mWARNING\u001b[0m The save_model argument by default saves the model in the HDF5 format that cannot save custom objects like subclassed models and custom layers. This behavior will be deprecated in a future release in favor of the SavedModel format. Meanwhile, the HDF5 model is saved as W&B files and the SavedModel as W&B Artifacts.\n"
     ]
    },
    {
     "name": "stdout",
     "output_type": "stream",
     "text": [
      "Epoch 1/32\n",
      "   1149/Unknown - 24s 15ms/step - loss: 1.8109 - accuracy: 0.9426"
     ]
    },
    {
     "name": "stderr",
     "output_type": "stream",
     "text": [
      "2025-08-22 13:12:45.606494: W tensorflow/python/util/util.cc:368] Sets are not currently considered sequences, but this may change in the future, so consider avoiding using them.\n"
     ]
    },
    {
     "name": "stdout",
     "output_type": "stream",
     "text": [
      "INFO:tensorflow:Assets written to: /home/julius/Documents/ml_summerschool/wandb/run-20250822_131204-wuv3m6jl/files/model-best/assets\n"
     ]
    },
    {
     "name": "stderr",
     "output_type": "stream",
     "text": [
      "\u001b[34m\u001b[1mwandb\u001b[0m: Adding directory to artifact (/home/julius/Documents/ml_summerschool/wandb/run-20250822_131204-wuv3m6jl/files/model-best)... Done. 0.0s\n"
     ]
    },
    {
     "name": "stdout",
     "output_type": "stream",
     "text": [
      "1158/1158 [==============================] - 30s 20ms/step - loss: 1.7969 - accuracy: 0.9430 - val_loss: 0.2662 - val_accuracy: 0.9443\n",
      "Epoch 2/32\n",
      "1158/1158 [==============================] - 3s 3ms/step - loss: 0.2244 - accuracy: 0.9456 - val_loss: 0.2669 - val_accuracy: 0.9443\n",
      "Epoch 3/32\n",
      "1158/1158 [==============================] - 3s 3ms/step - loss: 0.2245 - accuracy: 0.9456 - val_loss: 0.2671 - val_accuracy: 0.9443\n",
      "Epoch 4/32\n",
      "1158/1158 [==============================] - 3s 3ms/step - loss: 0.2245 - accuracy: 0.9456 - val_loss: 0.2671 - val_accuracy: 0.9443\n",
      "Epoch 5/32\n",
      "1158/1158 [==============================] - 3s 3ms/step - loss: 0.2245 - accuracy: 0.9456 - val_loss: 0.2671 - val_accuracy: 0.9443\n",
      "Epoch 6/32\n",
      "1158/1158 [==============================] - 3s 3ms/step - loss: 0.2245 - accuracy: 0.9456 - val_loss: 0.2672 - val_accuracy: 0.9443\n",
      "Epoch 7/32\n",
      "1158/1158 [==============================] - 3s 3ms/step - loss: 0.2246 - accuracy: 0.9456 - val_loss: 0.2672 - val_accuracy: 0.9443\n",
      "Epoch 8/32\n",
      "1158/1158 [==============================] - 3s 3ms/step - loss: 0.2246 - accuracy: 0.9456 - val_loss: 0.2672 - val_accuracy: 0.9443\n",
      "Epoch 9/32\n",
      "1158/1158 [==============================] - 3s 3ms/step - loss: 0.2246 - accuracy: 0.9456 - val_loss: 0.2672 - val_accuracy: 0.9443\n",
      "Epoch 10/32\n",
      "1158/1158 [==============================] - 3s 3ms/step - loss: 0.2246 - accuracy: 0.9456 - val_loss: 0.2672 - val_accuracy: 0.9443\n",
      "Epoch 11/32\n",
      "1158/1158 [==============================] - 3s 3ms/step - loss: 0.2246 - accuracy: 0.9456 - val_loss: 0.2672 - val_accuracy: 0.9443\n",
      "Epoch 12/32\n",
      "1158/1158 [==============================] - 3s 3ms/step - loss: 0.2246 - accuracy: 0.9456 - val_loss: 0.2672 - val_accuracy: 0.9443\n",
      "Epoch 13/32\n",
      "1158/1158 [==============================] - 3s 3ms/step - loss: 0.2246 - accuracy: 0.9456 - val_loss: 0.2672 - val_accuracy: 0.9443\n",
      "Epoch 14/32\n",
      "1158/1158 [==============================] - 3s 3ms/step - loss: 0.2246 - accuracy: 0.9456 - val_loss: 0.2672 - val_accuracy: 0.9443\n",
      "Epoch 15/32\n",
      "1158/1158 [==============================] - 3s 3ms/step - loss: 0.2246 - accuracy: 0.9456 - val_loss: 0.2672 - val_accuracy: 0.9443\n",
      "Epoch 16/32\n",
      "1158/1158 [==============================] - 3s 3ms/step - loss: 0.2246 - accuracy: 0.9456 - val_loss: 0.2672 - val_accuracy: 0.9443\n",
      "Epoch 17/32\n",
      "1158/1158 [==============================] - 4s 3ms/step - loss: 0.2246 - accuracy: 0.9456 - val_loss: 0.2672 - val_accuracy: 0.9443\n",
      "Epoch 18/32\n",
      "1158/1158 [==============================] - 3s 3ms/step - loss: 0.2246 - accuracy: 0.9456 - val_loss: 0.2672 - val_accuracy: 0.9443\n",
      "Epoch 19/32\n",
      "1158/1158 [==============================] - 3s 3ms/step - loss: 0.2246 - accuracy: 0.9456 - val_loss: 0.2672 - val_accuracy: 0.9443\n",
      "Epoch 20/32\n",
      "1158/1158 [==============================] - 3s 3ms/step - loss: 0.2246 - accuracy: 0.9456 - val_loss: 0.2672 - val_accuracy: 0.9443\n",
      "Epoch 21/32\n",
      "1158/1158 [==============================] - 3s 3ms/step - loss: 0.2246 - accuracy: 0.9456 - val_loss: 0.2672 - val_accuracy: 0.9443\n",
      "Epoch 22/32\n",
      "1158/1158 [==============================] - 3s 3ms/step - loss: 0.2246 - accuracy: 0.9456 - val_loss: 0.2672 - val_accuracy: 0.9443\n",
      "Epoch 23/32\n",
      "1158/1158 [==============================] - 3s 3ms/step - loss: 0.2246 - accuracy: 0.9456 - val_loss: 0.2672 - val_accuracy: 0.9443\n",
      "Epoch 24/32\n",
      "1158/1158 [==============================] - 3s 3ms/step - loss: 0.2246 - accuracy: 0.9456 - val_loss: 0.2672 - val_accuracy: 0.9443\n",
      "Epoch 25/32\n",
      "1158/1158 [==============================] - 4s 3ms/step - loss: 0.2246 - accuracy: 0.9456 - val_loss: 0.2672 - val_accuracy: 0.9443\n",
      "Epoch 26/32\n",
      "1158/1158 [==============================] - 4s 3ms/step - loss: 0.2246 - accuracy: 0.9456 - val_loss: 0.2672 - val_accuracy: 0.9443\n",
      "Epoch 27/32\n",
      "1158/1158 [==============================] - 3s 3ms/step - loss: 0.2246 - accuracy: 0.9456 - val_loss: 0.2672 - val_accuracy: 0.9443\n",
      "Epoch 28/32\n",
      "1158/1158 [==============================] - 4s 3ms/step - loss: 0.2246 - accuracy: 0.9456 - val_loss: 0.2672 - val_accuracy: 0.9443\n",
      "Epoch 29/32\n",
      "1158/1158 [==============================] - 4s 3ms/step - loss: 0.2246 - accuracy: 0.9456 - val_loss: 0.2672 - val_accuracy: 0.9443\n",
      "Epoch 30/32\n",
      "1158/1158 [==============================] - 4s 3ms/step - loss: 0.2246 - accuracy: 0.9456 - val_loss: 0.2672 - val_accuracy: 0.9443\n",
      "Epoch 31/32\n",
      "1158/1158 [==============================] - 3s 3ms/step - loss: 0.2246 - accuracy: 0.9456 - val_loss: 0.2672 - val_accuracy: 0.9443\n",
      "Epoch 32/32\n",
      "1158/1158 [==============================] - 4s 3ms/step - loss: 0.2246 - accuracy: 0.9456 - val_loss: 0.2672 - val_accuracy: 0.9443\n"
     ]
    },
    {
     "data": {
      "text/plain": [
       "<keras.callbacks.History at 0x77a6bfc85b20>"
      ]
     },
     "execution_count": 9,
     "metadata": {},
     "output_type": "execute_result"
    }
   ],
   "source": [
    "train_ds = train_data.gen_dataset().prefetch(tf.data.AUTOTUNE)\n",
    "val_ds = validation_data.gen_dataset().prefetch(tf.data.AUTOTUNE)\n",
    "\n",
    "model.fit(train_ds, validation_data=val_ds,     epochs=wandb.config.epochs,\n",
    "    batch_size=wandb.config.batch_size,\n",
    "    callbacks=[WandbCallback()])"
   ]
  },
  {
   "cell_type": "code",
   "execution_count": 10,
   "id": "f2289031",
   "metadata": {},
   "outputs": [
    {
     "name": "stdout",
     "output_type": "stream",
     "text": [
      "717/717 [==============================] - 10s 14ms/step - loss: 0.1386 - accuracy: 0.9721\n"
     ]
    }
   ],
   "source": [
    "test_ds = test_data.gen_dataset().prefetch(tf.data.AUTOTUNE)\n",
    "def convert_labels_to_int(x, y):\n",
    "    return x, tf.argmax(y, axis=-1)\n",
    "\n",
    "eval_results = model.evaluate(test_ds)\n",
    "\n",
    "# Get the metric names from the model\n",
    "metric_names = model.metrics_names  # e.g., ['loss', 'accuracy']\n",
    "\n",
    "# Log each metric to W&B\n",
    "wandb.log({name: value for name, value in zip(metric_names, eval_results)})"
   ]
  },
  {
   "cell_type": "code",
   "execution_count": 11,
   "id": "8a00da78",
   "metadata": {},
   "outputs": [
    {
     "data": {
      "image/png": "[encoded data removed]",
      "text/plain": [
       "<Figure size 600x600 with 1 Axes>"
      ]
     },
     "metadata": {},
     "output_type": "display_data"
    }
   ],
   "source": [
    "import numpy as np\n",
    "from sklearn.metrics import confusion_matrix\n",
    "import seaborn as sns\n",
    "import matplotlib.pyplot as plt\n",
    "\n",
    "# 1. Get predictions on test dataset\n",
    "y_true = []\n",
    "y_pred = []\n",
    "\n",
    "for x_batch, y_batch in test_ds:\n",
    "    preds = model.predict(x_batch)\n",
    "    preds_labels = np.argmax(preds, axis=1)\n",
    "\n",
    "    # Convert one-hot labels to class indices\n",
    "    true_labels = np.argmax(y_batch.numpy(), axis=1)\n",
    "    \n",
    "    y_true.extend(true_labels)\n",
    "    y_pred.extend(preds_labels)\n",
    "\n",
    "y_true = np.array(y_true)\n",
    "y_pred = np.array(y_pred)\n",
    "\n",
    "# 2. Compute confusion matrix using sklearn\n",
    "confusion = confusion_matrix(y_true, y_pred)\n",
    "\n",
    "# 3. Visualize confusion matrix (your existing function)\n",
    "def show_confusion_matrix(confusion, labels):\n",
    "    confusion_normalized = confusion.astype('float') / confusion.sum(axis=1, keepdims=True)\n",
    "    sns.set(rc={'figure.figsize':(6,6)})\n",
    "    sns.heatmap(\n",
    "        confusion_normalized, xticklabels=labels, yticklabels=labels,\n",
    "        cmap='Blues', annot=True, fmt='.2f', square=True, cbar=False\n",
    "    )\n",
    "    plt.title(\"Confusion matrix\")\n",
    "    plt.ylabel(\"True label\")\n",
    "    plt.xlabel(\"Predicted label\")\n",
    "    plt.show()\n",
    "\n",
    "# 4. Provide the class labels in order\n",
    "class_labels = test_data.index_to_label  # or your list of label names\n",
    "\n",
    "show_confusion_matrix(confusion, class_labels)\n"
   ]
  },
  {
   "cell_type": "code",
   "execution_count": 12,
   "id": "3b495389",
   "metadata": {},
   "outputs": [
    {
     "name": "stdout",
     "output_type": "stream",
     "text": [
      "INFO:tensorflow:Assets written to: ./models/saved_model/assets\n",
      "Model exported to ./models/custom_model.tflite\n"
     ]
    },
    {
     "name": "stderr",
     "output_type": "stream",
     "text": [
      "2025-08-22 13:16:45.555082: W tensorflow/compiler/mlir/lite/python/tf_tfl_flatbuffer_helpers.cc:357] Ignored output_format.\n",
      "2025-08-22 13:16:45.555104: W tensorflow/compiler/mlir/lite/python/tf_tfl_flatbuffer_helpers.cc:360] Ignored drop_control_dependency.\n",
      "2025-08-22 13:16:45.555671: I tensorflow/cc/saved_model/reader.cc:43] Reading SavedModel from: ./models/saved_model\n",
      "2025-08-22 13:16:45.556717: I tensorflow/cc/saved_model/reader.cc:78] Reading meta graph with tags { serve }\n",
      "2025-08-22 13:16:45.556730: I tensorflow/cc/saved_model/reader.cc:119] Reading SavedModel debug info (if present) from: ./models/saved_model\n",
      "2025-08-22 13:16:45.559676: I tensorflow/cc/saved_model/loader.cc:228] Restoring SavedModel bundle.\n",
      "2025-08-22 13:16:45.592978: I tensorflow/cc/saved_model/loader.cc:212] Running initialization op on SavedModel bundle at path: ./models/saved_model\n",
      "2025-08-22 13:16:45.604882: I tensorflow/cc/saved_model/loader.cc:301] SavedModel load for tags { serve }; Status: success: OK. Took 49212 microseconds.\n",
      "2025-08-22 13:16:45.616803: I tensorflow/compiler/mlir/tensorflow/utils/dump_mlir_util.cc:237] disabling MLIR crash reproducer, set env var `MLIR_CRASH_REPRODUCER_DIRECTORY` to enable.\n"
     ]
    }
   ],
   "source": [
    "TFLITE_FILENAME = 'custom_model.tflite'\n",
    "SAVE_PATH = './models'\n",
    "\n",
    "\n",
    "# Save the Keras model (optional but recommended)\n",
    "keras_model_path = os.path.join(SAVE_PATH, 'saved_model')\n",
    "model.save(keras_model_path)\n",
    "\n",
    "# Convert to TFLite\n",
    "converter = tf.lite.TFLiteConverter.from_saved_model(keras_model_path)\n",
    "tflite_model = converter.convert()\n",
    "\n",
    "# Save the TFLite model to file\n",
    "tflite_model_path = os.path.join(SAVE_PATH, TFLITE_FILENAME)\n",
    "with open(tflite_model_path, 'wb') as f:\n",
    "    f.write(tflite_model)\n",
    "\n",
    "print(f'Model exported to {tflite_model_path}')"
   ]
  },
  {
   "cell_type": "code",
   "execution_count": 13,
   "id": "0d67a0ae",
   "metadata": {},
   "outputs": [],
   "source": [
    "def generate_header_file(tflite_model_path, header_path):\n",
    "    \"\"\"Generate a C header file from a TFLite model.\"\"\"\n",
    "    # Read the TFLite model binary\n",
    "    with open(tflite_model_path, 'rb') as f:\n",
    "        model_bytes = f.read()\n",
    "    \n",
    "    # Convert bytes to hex representation\n",
    "    hex_lines = []\n",
    "    for i, byte in enumerate(model_bytes):\n",
    "        if i % 12 == 0:\n",
    "            hex_lines.append('\\n  ')\n",
    "        hex_lines.append(f'0x{byte:02x},')\n",
    "    \n",
    "    # Write the header file\n",
    "    with open(header_path, 'w') as f:\n",
    "        f.write('const unsigned char model[] = {')\n",
    "        f.write(''.join(hex_lines))\n",
    "        f.write('\\n};\\n')\n",
    "        f.write(f'const unsigned int model_len = {len(model_bytes)};\\n')"
   ]
  },
  {
   "cell_type": "code",
   "execution_count": 14,
   "id": "98b29e25",
   "metadata": {},
   "outputs": [
    {
     "name": "stdout",
     "output_type": "stream",
     "text": [
      "\n",
      "Converting model to TFLite format...\n",
      "INFO:tensorflow:Assets written to: /tmp/tmpudxt8o6p/assets\n",
      "Model is 26032 bytes\n",
      "Header file, model.h, is 136,743 bytes.\n",
      "\n",
      "Model has been converted to model.h in the output directory.\n"
     ]
    },
    {
     "name": "stderr",
     "output_type": "stream",
     "text": [
      "2025-08-22 13:16:49.359704: W tensorflow/compiler/mlir/lite/python/tf_tfl_flatbuffer_helpers.cc:357] Ignored output_format.\n",
      "2025-08-22 13:16:49.359728: W tensorflow/compiler/mlir/lite/python/tf_tfl_flatbuffer_helpers.cc:360] Ignored drop_control_dependency.\n",
      "2025-08-22 13:16:49.359863: I tensorflow/cc/saved_model/reader.cc:43] Reading SavedModel from: /tmp/tmpudxt8o6p\n",
      "2025-08-22 13:16:49.360779: I tensorflow/cc/saved_model/reader.cc:78] Reading meta graph with tags { serve }\n",
      "2025-08-22 13:16:49.360793: I tensorflow/cc/saved_model/reader.cc:119] Reading SavedModel debug info (if present) from: /tmp/tmpudxt8o6p\n",
      "2025-08-22 13:16:49.363357: I tensorflow/cc/saved_model/loader.cc:228] Restoring SavedModel bundle.\n",
      "2025-08-22 13:16:49.394710: I tensorflow/cc/saved_model/loader.cc:212] Running initialization op on SavedModel bundle at path: /tmp/tmpudxt8o6p\n",
      "2025-08-22 13:16:49.403675: I tensorflow/cc/saved_model/loader.cc:301] SavedModel load for tags { serve }; Status: success: OK. Took 43812 microseconds.\n"
     ]
    }
   ],
   "source": [
    "print(\"\\nConverting model to TFLite format...\")\n",
    "converter = tf.lite.TFLiteConverter.from_keras_model(model)\n",
    "tflite_model = converter.convert()\n",
    "\n",
    "# Save the model\n",
    "open(\"gesture_model.tflite\", \"wb\").write(tflite_model)\n",
    "basic_model_size = os.path.getsize(\"gesture_model.tflite\")\n",
    "print(\"Model is %d bytes\" % basic_model_size)\n",
    "\n",
    "# Generate header file\n",
    "os.makedirs('./output', exist_ok=True)\n",
    "header_path = './output/model.h'\n",
    "generate_header_file('gesture_model.tflite', header_path)\n",
    "\n",
    "model_h_size = os.path.getsize(header_path)\n",
    "print(f\"Header file, model.h, is {model_h_size:,} bytes.\")\n",
    "print(\"\\nModel has been converted to model.h in the output directory.\")"
   ]
  },
  {
   "cell_type": "code",
   "execution_count": 15,
   "id": "c06c70bf",
   "metadata": {},
   "outputs": [],
   "source": [
    "from tflite_support import metadata\n",
    "import json\n",
    "\n",
    "def get_labels(model):\n",
    "  \"\"\"Returns a list of labels, extracted from the model metadata.\"\"\"\n",
    "  displayer = metadata.MetadataDisplayer.with_model_file(model)\n",
    "  labels_file = displayer.get_packed_associated_file_list()[0]\n",
    "  labels = displayer.get_associated_file_buffer(labels_file).decode()\n",
    "  return [line for line in labels.split('\\n')]\n",
    "\n",
    "def get_input_sample_rate(model):\n",
    "  \"\"\"Returns the model's expected sample rate, from the model metadata.\"\"\"\n",
    "  displayer = metadata.MetadataDisplayer.with_model_file(model)\n",
    "  metadata_json = json.loads(displayer.get_metadata_json())\n",
    "  input_tensor_metadata = metadata_json['subgraph_metadata'][0][\n",
    "          'input_tensor_metadata'][0]\n",
    "  input_content_props = input_tensor_metadata['content']['content_properties']\n",
    "  return input_content_props['sample_rate']"
   ]
  },
  {
   "cell_type": "code",
   "execution_count": 16,
   "id": "0bbcb78f",
   "metadata": {},
   "outputs": [
    {
     "ename": "ValueError",
     "evalue": "The model does not have metadata.",
     "output_type": "error",
     "traceback": [
      "\u001b[0;31m---------------------------------------------------------------------------\u001b[0m",
      "\u001b[0;31mValueError\u001b[0m                                Traceback (most recent call last)",
      "Cell \u001b[0;32mIn[16], line 3\u001b[0m\n\u001b[1;32m      1\u001b[0m \u001b[38;5;66;03m# Get a WAV file for inference and list of labels from the model\u001b[39;00m\n\u001b[1;32m      2\u001b[0m tflite_file \u001b[38;5;241m=\u001b[39m os\u001b[38;5;241m.\u001b[39mpath\u001b[38;5;241m.\u001b[39mjoin(SAVE_PATH, TFLITE_FILENAME)\n\u001b[0;32m----> 3\u001b[0m labels \u001b[38;5;241m=\u001b[39m \u001b[43mget_labels\u001b[49m\u001b[43m(\u001b[49m\u001b[43mtflite_file\u001b[49m\u001b[43m)\u001b[49m\n\u001b[1;32m      4\u001b[0m random_audio \u001b[38;5;241m=\u001b[39m get_random_audio_file(test_dir)\n\u001b[1;32m      6\u001b[0m \u001b[38;5;66;03m# Ensure the audio sample fits the model input\u001b[39;00m\n",
      "Cell \u001b[0;32mIn[15], line 6\u001b[0m, in \u001b[0;36mget_labels\u001b[0;34m(model)\u001b[0m\n\u001b[1;32m      4\u001b[0m \u001b[38;5;28;01mdef\u001b[39;00m\u001b[38;5;250m \u001b[39m\u001b[38;5;21mget_labels\u001b[39m(model):\n\u001b[1;32m      5\u001b[0m \u001b[38;5;250m  \u001b[39m\u001b[38;5;124;03m\"\"\"Returns a list of labels, extracted from the model metadata.\"\"\"\u001b[39;00m\n\u001b[0;32m----> 6\u001b[0m   displayer \u001b[38;5;241m=\u001b[39m \u001b[43mmetadata\u001b[49m\u001b[38;5;241;43m.\u001b[39;49m\u001b[43mMetadataDisplayer\u001b[49m\u001b[38;5;241;43m.\u001b[39;49m\u001b[43mwith_model_file\u001b[49m\u001b[43m(\u001b[49m\u001b[43mmodel\u001b[49m\u001b[43m)\u001b[49m\n\u001b[1;32m      7\u001b[0m   labels_file \u001b[38;5;241m=\u001b[39m displayer\u001b[38;5;241m.\u001b[39mget_packed_associated_file_list()[\u001b[38;5;241m0\u001b[39m]\n\u001b[1;32m      8\u001b[0m   labels \u001b[38;5;241m=\u001b[39m displayer\u001b[38;5;241m.\u001b[39mget_associated_file_buffer(labels_file)\u001b[38;5;241m.\u001b[39mdecode()\n",
      "File \u001b[0;32m~/miniconda3/envs/atml/lib/python3.9/site-packages/tensorflow_lite_support/metadata/python/metadata.py:719\u001b[0m, in \u001b[0;36mMetadataDisplayer.with_model_file\u001b[0;34m(cls, model_file)\u001b[0m\n\u001b[1;32m    717\u001b[0m _assert_file_exist(model_file)\n\u001b[1;32m    718\u001b[0m \u001b[38;5;28;01mwith\u001b[39;00m _open_file(model_file, \u001b[38;5;124m\"\u001b[39m\u001b[38;5;124mrb\u001b[39m\u001b[38;5;124m\"\u001b[39m) \u001b[38;5;28;01mas\u001b[39;00m f:\n\u001b[0;32m--> 719\u001b[0m   \u001b[38;5;28;01mreturn\u001b[39;00m \u001b[38;5;28;43mcls\u001b[39;49m\u001b[38;5;241;43m.\u001b[39;49m\u001b[43mwith_model_buffer\u001b[49m\u001b[43m(\u001b[49m\u001b[43mf\u001b[49m\u001b[38;5;241;43m.\u001b[39;49m\u001b[43mread\u001b[49m\u001b[43m(\u001b[49m\u001b[43m)\u001b[49m\u001b[43m)\u001b[49m\n",
      "File \u001b[0;32m~/miniconda3/envs/atml/lib/python3.9/site-packages/tensorflow_lite_support/metadata/python/metadata.py:735\u001b[0m, in \u001b[0;36mMetadataDisplayer.with_model_buffer\u001b[0;34m(cls, model_buffer)\u001b[0m\n\u001b[1;32m    733\u001b[0m metadata_buffer \u001b[38;5;241m=\u001b[39m get_metadata_buffer(model_buffer)\n\u001b[1;32m    734\u001b[0m \u001b[38;5;28;01mif\u001b[39;00m \u001b[38;5;129;01mnot\u001b[39;00m metadata_buffer:\n\u001b[0;32m--> 735\u001b[0m   \u001b[38;5;28;01mraise\u001b[39;00m \u001b[38;5;167;01mValueError\u001b[39;00m(\u001b[38;5;124m\"\u001b[39m\u001b[38;5;124mThe model does not have metadata.\u001b[39m\u001b[38;5;124m\"\u001b[39m)\n\u001b[1;32m    736\u001b[0m associated_file_list \u001b[38;5;241m=\u001b[39m \u001b[38;5;28mcls\u001b[39m\u001b[38;5;241m.\u001b[39m_parse_packed_associted_file_list(model_buffer)\n\u001b[1;32m    737\u001b[0m \u001b[38;5;28;01mreturn\u001b[39;00m \u001b[38;5;28mcls\u001b[39m(model_buffer, metadata_buffer, associated_file_list)\n",
      "\u001b[0;31mValueError\u001b[0m: The model does not have metadata."
     ]
    }
   ],
   "source": [
    "# Get a WAV file for inference and list of labels from the model\n",
    "tflite_file = os.path.join(SAVE_PATH, TFLITE_FILENAME)\n",
    "labels = get_labels(tflite_file)\n",
    "random_audio = get_random_audio_file(test_dir)\n",
    "\n",
    "# Ensure the audio sample fits the model input\n",
    "interpreter = tf.lite.Interpreter(tflite_file)\n",
    "input_details = interpreter.get_input_details()\n",
    "output_details = interpreter.get_output_details()\n",
    "input_size = input_details[0]['shape'][1]\n",
    "sample_rate = get_input_sample_rate(tflite_file)\n",
    "audio_data, _ = librosa.load(random_audio, sr=sample_rate)\n",
    "if len(audio_data) < input_size:\n",
    "  audio_data.resize(input_size)\n",
    "audio_data = np.expand_dims(audio_data[:input_size], axis=0)\n",
    "\n",
    "# Run inference\n",
    "interpreter.allocate_tensors()\n",
    "interpreter.set_tensor(input_details[0]['index'], audio_data)\n",
    "interpreter.invoke()\n",
    "output_data = interpreter.get_tensor(output_details[0]['index'])\n",
    "\n",
    "# Display prediction and ground truth\n",
    "top_index = np.argmax(output_data[0])\n",
    "label = labels[top_index]\n",
    "score = output_data[0][top_index]\n",
    "print('---prediction---')\n",
    "print(f'Class: {label}\\nScore: {score}')\n",
    "print('----truth----')\n",
    "show_sample(random_audio)"
   ]
  }
 ],
 "metadata": {
  "kernelspec": {
   "display_name": "atml",
   "language": "python",
   "name": "python3"
  },
  "language_info": {
   "codemirror_mode": {
    "name": "ipython",
    "version": 3
   },
   "file_extension": ".py",
   "mimetype": "text/x-python",
   "name": "python",
   "nbconvert_exporter": "python",
   "pygments_lexer": "ipython3",
   "version": "3.9.23"
  }
 },
 "nbformat": 4,
 "nbformat_minor": 5
}
