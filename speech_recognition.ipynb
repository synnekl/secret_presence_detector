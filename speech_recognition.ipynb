{
 "cells": [
  {
   "cell_type": "markdown",
   "metadata": {
    "id": "MelHQlE7FVue"
   },
   "source": [
    "You'll need TensorFlow, TFLite Model Maker, and some modules for audio manipulation, playback, and visualizations."
   ]
  },
  {
   "cell_type": "code",
   "execution_count": null,
   "metadata": {
    "execution": {
     "iopub.execute_input": "2024-07-20T12:12:47.286394Z",
     "iopub.status.busy": "2024-07-20T12:12:47.286171Z",
     "iopub.status.idle": "2024-07-20T12:12:49.418518Z",
     "shell.execute_reply": "2024-07-20T12:12:49.417678Z"
    },
    "id": "wbMc4vHjaYdQ"
   },
   "outputs": [],
   "source": [
    "!sudo apt -y install libportaudio2\n",
    "!pip install tflite-model-maker"
   ]
  },
  {
   "cell_type": "code",
   "execution_count": 1,
   "metadata": {
    "execution": {
     "iopub.execute_input": "2024-07-20T12:12:49.422481Z",
     "iopub.status.busy": "2024-07-20T12:12:49.422182Z",
     "iopub.status.idle": "2024-07-20T12:12:53.408322Z",
     "shell.execute_reply": "2024-07-20T12:12:53.407623Z"
    },
    "id": "rwUA9u4oWoCR"
   },
   "outputs": [
    {
     "name": "stderr",
     "output_type": "stream",
     "text": [
      "2025-08-21 17:19:08.156417: W tensorflow/stream_executor/platform/default/dso_loader.cc:64] Could not load dynamic library 'libcudart.so.11.0'; dlerror: libcudart.so.11.0: cannot open shared object file: No such file or directory\n",
      "2025-08-21 17:19:08.156440: I tensorflow/stream_executor/cuda/cudart_stub.cc:29] Ignore above cudart dlerror if you do not have a GPU set up on your machine.\n",
      "/home/julius/miniconda3/envs/atml/lib/python3.9/site-packages/tensorflow_addons/utils/tfa_eol_msg.py:23: UserWarning: \n",
      "\n",
      "TensorFlow Addons (TFA) has ended development and introduction of new features.\n",
      "TFA has entered a minimal maintenance and release mode until a planned end of life in May 2024.\n",
      "Please modify downstream libraries to take dependencies from other repositories in our TensorFlow community (e.g. Keras, Keras-CV, and Keras-NLP). \n",
      "\n",
      "For more information see: https://github.com/tensorflow/addons/issues/2807 \n",
      "\n",
      "  warnings.warn(\n",
      "/home/julius/miniconda3/envs/atml/lib/python3.9/site-packages/tensorflow_addons/utils/ensure_tf_install.py:53: UserWarning: Tensorflow Addons supports using Python ops for all Tensorflow versions above or equal to 2.13.0 and strictly below 2.16.0 (nightly versions are not supported). \n",
      " The versions of TensorFlow you are currently using is 2.8.4 and is not supported. \n",
      "Some things might work, some things might not.\n",
      "If you were to encounter a bug, do not file an issue.\n",
      "If you want to make sure you're using a tested and supported configuration, either change the TensorFlow version or the TensorFlow Addons's version. \n",
      "You can find the compatibility matrix in TensorFlow Addon's readme:\n",
      "https://github.com/tensorflow/addons\n",
      "  warnings.warn(\n",
      "/home/julius/miniconda3/envs/atml/lib/python3.9/site-packages/tqdm/auto.py:21: TqdmWarning: IProgress not found. Please update jupyter and ipywidgets. See https://ipywidgets.readthedocs.io/en/stable/user_install.html\n",
      "  from .autonotebook import tqdm as notebook_tqdm\n"
     ]
    },
    {
     "name": "stdout",
     "output_type": "stream",
     "text": [
      "TensorFlow Version: 2.8.4\n",
      "Model Maker Version: 0.4.3\n"
     ]
    }
   ],
   "source": [
    "import os\n",
    "import glob\n",
    "import random\n",
    "import shutil\n",
    "\n",
    "import librosa\n",
    "import soundfile as sf\n",
    "from IPython.display import Audio\n",
    "import numpy as np\n",
    "import matplotlib.pyplot as plt\n",
    "import seaborn as sns\n",
    "\n",
    "import tensorflow as tf\n",
    "import tflite_model_maker as mm\n",
    "from tflite_model_maker import audio_classifier\n",
    "from tflite_model_maker.config import ExportFormat\n",
    "\n",
    "print(f\"TensorFlow Version: {tf.__version__}\")\n",
    "print(f\"Model Maker Version: {mm.__version__}\")"
   ]
  },
  {
   "cell_type": "markdown",
   "metadata": {
    "id": "cBsSAeYLkc1Z"
   },
   "source": [
    "## Prepare the dataset"
   ]
  },
  {
   "cell_type": "code",
   "execution_count": 2,
   "metadata": {
    "cellView": "form",
    "execution": {
     "iopub.execute_input": "2024-07-20T12:12:53.412065Z",
     "iopub.status.busy": "2024-07-20T12:12:53.411589Z",
     "iopub.status.idle": "2024-07-20T12:12:53.415088Z",
     "shell.execute_reply": "2024-07-20T12:12:53.414512Z"
    },
    "id": "AK9o98X7qyhU"
   },
   "outputs": [],
   "source": [
    "use_custom_dataset = True #@param [\"False\", \"True\"] {type:\"raw\"}"
   ]
  },
  {
   "cell_type": "markdown",
   "metadata": {
    "id": "D2sNXbYVHjjy"
   },
   "source": [
    "### Generate a background noise dataset"
   ]
  },
  {
   "cell_type": "markdown",
   "metadata": {
    "id": "gBVClNMwHtMD"
   },
   "source": [
    "Whether you're using the default speech dataset or a custom dataset, you should have a good set of background noises so your model can distinguish speech from other noises (including silence). \n",
    "\n",
    "Because the following background samples are provided in WAV files that are a minute long or longer, we need to split them up into smaller one-second samples so we can reserve some for our test dataset. We'll also combine a couple different sample sources to build a comprehensive set of background noises and silence:"
   ]
  },
  {
   "cell_type": "code",
   "execution_count": 24,
   "metadata": {
    "execution": {
     "iopub.execute_input": "2024-07-20T12:12:53.418123Z",
     "iopub.status.busy": "2024-07-20T12:12:53.417901Z",
     "iopub.status.idle": "2024-07-20T12:13:26.504592Z",
     "shell.execute_reply": "2024-07-20T12:13:26.503880Z"
    },
    "id": "qvJd9VfmHu29"
   },
   "outputs": [
    {
     "name": "stdout",
     "output_type": "stream",
     "text": [
      "Downloading data from http://download.tensorflow.org/data/speech_commands_v0.01.tar.gz\n",
      "1489100800/1489096277 [==============================] - 53s 0us/step\n",
      "1489108992/1489096277 [==============================] - 53s 0us/step\n",
      "Downloading data from https://storage.googleapis.com/download.tensorflow.org/models/tflite/sound_classification/background_audio.zip\n",
      "1073152/1072437 [==============================] - 1s 0us/step\n",
      "1081344/1072437 [==============================] - 1s 0us/step\n"
     ]
    },
    {
     "data": {
      "text/plain": [
       "'./dataset-background/background_audio.zip'"
      ]
     },
     "execution_count": 24,
     "metadata": {},
     "output_type": "execute_result"
    }
   ],
   "source": [
    "tf.keras.utils.get_file('speech_commands_v0.01.tar.gz',\n",
    "                        'http://download.tensorflow.org/data/speech_commands_v0.01.tar.gz',\n",
    "                        cache_dir='./',\n",
    "                        cache_subdir='dataset-speech',\n",
    "                        extract=True)\n",
    "tf.keras.utils.get_file('background_audio.zip',\n",
    "                        'https://storage.googleapis.com/download.tensorflow.org/models/tflite/sound_classification/background_audio.zip',\n",
    "                        cache_dir='./',\n",
    "                        cache_subdir='dataset-background',\n",
    "                        extract=True)\n"
   ]
  },
  {
   "cell_type": "code",
   "execution_count": 25,
   "metadata": {
    "execution": {
     "iopub.execute_input": "2024-07-20T12:13:26.507683Z",
     "iopub.status.busy": "2024-07-20T12:13:26.507432Z",
     "iopub.status.idle": "2024-07-20T12:13:27.026950Z",
     "shell.execute_reply": "2024-07-20T12:13:27.026349Z"
    },
    "id": "xgwWNifGL-3b"
   },
   "outputs": [
    {
     "name": "stdout",
     "output_type": "stream",
     "text": [
      "Splitting exercise_bike.wav\n",
      "Splitting doing_the_dishes.wav\n",
      "Splitting white_noise.wav\n",
      "Splitting dude_miaowing.wav\n",
      "Splitting running_tap.wav\n",
      "Splitting pink_noise.wav\n",
      "Splitting silence.wav\n",
      "Splitting throat_clearing.wav\n"
     ]
    }
   ],
   "source": [
    "# Create a list of all the background wav files\n",
    "\n",
    "files = glob.glob(os.path.join('./dataset-speech/_background_noise_', '*.wav'))\n",
    "files = files + glob.glob(os.path.join('./dataset-background', '*.wav'))\n",
    "\n",
    "background_dir = './background'\n",
    "os.makedirs(background_dir, exist_ok=True)\n",
    "\n",
    "# Loop through all files and split each into several one-second wav files\n",
    "for file in files:\n",
    "  filename = os.path.basename(os.path.normpath(file))\n",
    "  print('Splitting', filename)\n",
    "  name = os.path.splitext(filename)[0]\n",
    "  rate = librosa.get_samplerate(file)\n",
    "  length = round(librosa.get_duration(filename=file))\n",
    "  for i in range(length - 1):\n",
    "    start = i * rate\n",
    "    stop = (i * rate) + rate\n",
    "    data, _ = sf.read(file, start=start, stop=stop)\n",
    "    sf.write(os.path.join(background_dir, name + str(i) + '.wav'), data, rate)"
   ]
  },
  {
   "cell_type": "code",
   "execution_count": 26,
   "metadata": {
    "execution": {
     "iopub.execute_input": "2024-07-20T12:13:27.030274Z",
     "iopub.status.busy": "2024-07-20T12:13:27.030029Z",
     "iopub.status.idle": "2024-07-20T12:13:28.403437Z",
     "shell.execute_reply": "2024-07-20T12:13:28.402723Z"
    },
    "id": "zUSRpw2nOp8p"
   },
   "outputs": [],
   "source": [
    "use_custom_dataset = False\n",
    "if not use_custom_dataset:\n",
    "  commands = [ \"up\", \"down\", \"left\", \"right\", \"go\", \"stop\", \"on\", \"off\", \"background\", \"cat\", \"dog\", \"down\", \"marvin\", \"seven\", \"sheila\", \"six\", \"stop\", \"three\", \"wow\", \"yes\", \"zero\"]\n",
    "  dataset_dir = './dataset-speech'\n",
    "  test_dir = './dataset-test'\n",
    "\n",
    "  # Move the processed background samples\n",
    "  shutil.move(background_dir, os.path.join(dataset_dir, 'background'))   \n",
    "\n",
    "  # Delete all directories that are not in our commands list\n",
    "  dirs = glob.glob(os.path.join(dataset_dir, '*/'))\n",
    "  for dir in dirs:\n",
    "    name = os.path.basename(os.path.normpath(dir))\n",
    "    if name not in commands:\n",
    "      shutil.rmtree(dir)\n",
    "\n",
    "  # Count is per class\n",
    "  sample_count = 99\n",
    "  test_data_ratio = 0.2\n",
    "  test_count = round(sample_count * test_data_ratio)\n",
    "\n",
    "  # Loop through child directories (each class of wav files)\n",
    "  dirs = glob.glob(os.path.join(dataset_dir, '*/'))\n",
    "  for dir in dirs:\n",
    "    files = glob.glob(os.path.join(dir, '*.wav'))\n",
    "    random.seed(42)\n",
    "    random.shuffle(files)\n",
    "    # Move test samples:\n",
    "    for file in files[sample_count:sample_count + test_count]:\n",
    "      class_dir = os.path.basename(os.path.normpath(dir))\n",
    "      os.makedirs(os.path.join(test_dir, class_dir), exist_ok=True)\n",
    "      os.rename(file, os.path.join(test_dir, class_dir, os.path.basename(file)))\n",
    "    # Delete remaining samples\n",
    "    for file in files[sample_count + test_count:]:\n",
    "      os.remove(file)"
   ]
  },
  {
   "cell_type": "code",
   "execution_count": 27,
   "metadata": {},
   "outputs": [
    {
     "name": "stdout",
     "output_type": "stream",
     "text": [
      "All files moved to data/background/\n"
     ]
    }
   ],
   "source": [
    "import os\n",
    "import shutil\n",
    "\n",
    "# Paths\n",
    "source_root = 'dataset-speech'\n",
    "destination_folder = 'data/background'\n",
    "\n",
    "# Create destination folder if it doesn't exist\n",
    "os.makedirs(destination_folder, exist_ok=True)\n",
    "\n",
    "# Loop through each subfolder in source_root\n",
    "for subfolder in os.listdir(source_root):\n",
    "    subfolder_path = os.path.join(source_root, subfolder)\n",
    "\n",
    "    # Ensure it's a directory\n",
    "    if os.path.isdir(subfolder_path):\n",
    "        for filename in os.listdir(subfolder_path):\n",
    "            file_path = os.path.join(subfolder_path, filename)\n",
    "\n",
    "            # Only move files (not subdirectories)\n",
    "            if os.path.isfile(file_path):\n",
    "                dest_path = os.path.join(destination_folder, filename)\n",
    "\n",
    "                # Handle filename collisions (optional)\n",
    "                if os.path.exists(dest_path):\n",
    "                    base, ext = os.path.splitext(filename)\n",
    "                    counter = 1\n",
    "                    while os.path.exists(dest_path):\n",
    "                        new_filename = f\"{base}_{counter}{ext}\"\n",
    "                        dest_path = os.path.join(destination_folder, new_filename)\n",
    "                        counter += 1\n",
    "\n",
    "                shutil.move(file_path, dest_path)\n",
    "\n",
    "print(\"All files moved to data/background/\")\n"
   ]
  },
  {
   "cell_type": "markdown",
   "metadata": {
    "id": "EobYerLQkiF1"
   },
   "source": [
    "### Prepare a custom dataset"
   ]
  },
  {
   "cell_type": "markdown",
   "metadata": {
    "id": "f3xTvDP3knMd"
   },
   "source": [
    "If you want to train the model with our own speech dataset, you need to upload your samples as WAV files in a ZIP ([as described above](#scrollTo=cBsSAeYLkc1Z)) and modify the following variables to specify your dataset:"
   ]
  },
  {
   "cell_type": "code",
   "execution_count": 28,
   "metadata": {
    "execution": {
     "iopub.execute_input": "2024-07-20T12:13:28.407635Z",
     "iopub.status.busy": "2024-07-20T12:13:28.407382Z",
     "iopub.status.idle": "2024-07-20T12:13:28.411699Z",
     "shell.execute_reply": "2024-07-20T12:13:28.411131Z"
    },
    "id": "77PsQAKA4Arx"
   },
   "outputs": [],
   "source": [
    "use_custom_dataset = True\n",
    "if use_custom_dataset:\n",
    "  # Specify the ZIP file you uploaded:\n",
    "  #!unzip YOUR-FILENAME.zip\n",
    "  # Specify the unzipped path to your custom dataset\n",
    "  # (this path contains all the subfolders with classification names):\n",
    "  dataset_dir = './data'"
   ]
  },
  {
   "cell_type": "markdown",
   "metadata": {
    "id": "hwp6EQqvttgf"
   },
   "source": [
    "After changing the filename and path name above, you're ready to train the model with your custom dataset. In the Colab toolbar, select **Runtime > Run all** to run the whole notebook.\n",
    "\n",
    "The following code integrates our new background noise samples into your dataset and then separates a portion of all samples to create a test set."
   ]
  },
  {
   "cell_type": "code",
   "execution_count": 18,
   "metadata": {
    "execution": {
     "iopub.execute_input": "2024-07-20T12:13:28.414481Z",
     "iopub.status.busy": "2024-07-20T12:13:28.414225Z",
     "iopub.status.idle": "2024-07-20T12:13:28.418452Z",
     "shell.execute_reply": "2024-07-20T12:13:28.417894Z"
    },
    "id": "tMQ6cpw_B9e_"
   },
   "outputs": [],
   "source": [
    "def move_background_dataset(dataset_dir):\n",
    "  dest_dir = os.path.join(dataset_dir, 'background')\n",
    "  if os.path.exists(dest_dir):\n",
    "    files = glob.glob(os.path.join(background_dir, '*.wav'))\n",
    "    for file in files:\n",
    "      shutil.move(file, dest_dir)\n",
    "  else:\n",
    "    shutil.move(background_dir, dest_dir)"
   ]
  },
  {
   "cell_type": "code",
   "execution_count": 19,
   "metadata": {},
   "outputs": [],
   "source": [
    "background_dir = './data/background'\n",
    "test_dir = './dataset-test'\n",
    "sample_dir = './dataset-test'"
   ]
  },
  {
   "cell_type": "code",
   "execution_count": 29,
   "metadata": {
    "execution": {
     "iopub.execute_input": "2024-07-20T12:13:28.422064Z",
     "iopub.status.busy": "2024-07-20T12:13:28.421514Z",
     "iopub.status.idle": "2024-07-20T12:13:28.426654Z",
     "shell.execute_reply": "2024-07-20T12:13:28.426102Z"
    },
    "id": "45iru8OdliG3"
   },
   "outputs": [
    {
     "name": "stdout",
     "output_type": "stream",
     "text": [
      "Moved 376 images from background\n",
      "Moved 20 images from training\n"
     ]
    }
   ],
   "source": [
    "if use_custom_dataset:\n",
    "  # Move background samples into custom dataset\n",
    "  move_background_dataset(dataset_dir)\n",
    "\n",
    "  # Now we separate some of the files that we'll use for testing:\n",
    "  test_dir = './dataset-test'\n",
    "  test_data_ratio = 0.2\n",
    "  dirs = glob.glob(os.path.join(dataset_dir, '*/'))\n",
    "  for dir in dirs:\n",
    "    files = glob.glob(os.path.join(dir, '*.wav'))\n",
    "    test_count = round(len(files) * test_data_ratio)\n",
    "    random.seed(42)\n",
    "    random.shuffle(files)\n",
    "    # Move test samples:\n",
    "    for file in files[:test_count]:\n",
    "      class_dir = os.path.basename(os.path.normpath(dir))\n",
    "      os.makedirs(os.path.join(test_dir, class_dir), exist_ok=True)\n",
    "      os.rename(file, os.path.join(test_dir, class_dir, os.path.basename(file)))\n",
    "    print('Moved', test_count, 'images from', class_dir)"
   ]
  },
  {
   "cell_type": "code",
   "execution_count": 39,
   "metadata": {},
   "outputs": [
    {
     "name": "stdout",
     "output_type": "stream",
     "text": [
      "Done: all other subfolders cleaned up, files moved to 'background'.\n"
     ]
    }
   ],
   "source": [
    "import os\n",
    "import shutil\n",
    "\n",
    "# Base directory\n",
    "root_dir = 'dataset-test'\n",
    "\n",
    "# Folders to keep untouched\n",
    "keep_folders = {'training', 'background'}\n",
    "\n",
    "# Path to the background folder\n",
    "background_folder = os.path.join(root_dir, 'background')\n",
    "\n",
    "# Loop through all items in the root directory\n",
    "for subfolder in os.listdir(root_dir):\n",
    "    subfolder_path = os.path.join(root_dir, subfolder)\n",
    "\n",
    "    # Skip folders we want to keep\n",
    "    if subfolder in keep_folders or not os.path.isdir(subfolder_path):\n",
    "        continue\n",
    "\n",
    "    # Move all files from this subfolder to background\n",
    "    for filename in os.listdir(subfolder_path):\n",
    "        file_path = os.path.join(subfolder_path, filename)\n",
    "\n",
    "        if os.path.isfile(file_path):\n",
    "            dest_path = os.path.join(background_folder, filename)\n",
    "\n",
    "            # Avoid filename collisions\n",
    "            if os.path.exists(dest_path):\n",
    "                base, ext = os.path.splitext(filename)\n",
    "                counter = 1\n",
    "                while os.path.exists(dest_path):\n",
    "                    new_filename = f\"{base}_{counter}{ext}\"\n",
    "                    dest_path = os.path.join(background_folder, new_filename)\n",
    "                    counter += 1\n",
    "\n",
    "            shutil.move(file_path, dest_path)\n",
    "\n",
    "    # Remove the empty folder\n",
    "    os.rmdir(subfolder_path)\n",
    "\n",
    "print(\"Done: all other subfolders cleaned up, files moved to 'background'.\")\n"
   ]
  },
  {
   "cell_type": "markdown",
   "metadata": {
    "id": "myPa1dfEoagz"
   },
   "source": [
    "### Play a sample"
   ]
  },
  {
   "cell_type": "markdown",
   "metadata": {
    "id": "1jecBYREgMk6"
   },
   "source": [
    "To be sure the dataset looks correct, let's play at a random sample from the test set:"
   ]
  },
  {
   "cell_type": "code",
   "execution_count": 30,
   "metadata": {
    "execution": {
     "iopub.execute_input": "2024-07-20T12:13:28.429414Z",
     "iopub.status.busy": "2024-07-20T12:13:28.429172Z",
     "iopub.status.idle": "2024-07-20T12:13:28.434161Z",
     "shell.execute_reply": "2024-07-20T12:13:28.433563Z"
    },
    "id": "gLC3ayJsoeNw"
   },
   "outputs": [],
   "source": [
    "def get_random_audio_file(samples_dir):\n",
    "  files = os.path.abspath(os.path.join(samples_dir, '*/*.wav'))\n",
    "  files_list = glob.glob(files)\n",
    "  random_audio_path = random.choice(files_list)\n",
    "  return random_audio_path\n",
    "\n",
    "def show_sample(audio_path):\n",
    "  audio_data, sample_rate = sf.read(audio_path)\n",
    "  class_name = os.path.basename(os.path.dirname(audio_path))\n",
    "  print(f'Class: {class_name}')\n",
    "  print(f'File: {audio_path}')\n",
    "  print(f'Sample rate: {sample_rate}')\n",
    "  print(f'Sample length: {len(audio_data)}')\n",
    "\n",
    "  plt.title(class_name)\n",
    "  plt.plot(audio_data)\n",
    "  display(Audio(audio_data, rate=sample_rate))"
   ]
  },
  {
   "cell_type": "code",
   "execution_count": 33,
   "metadata": {
    "execution": {
     "iopub.execute_input": "2024-07-20T12:13:28.437165Z",
     "iopub.status.busy": "2024-07-20T12:13:28.436671Z",
     "iopub.status.idle": "2024-07-20T12:13:28.659795Z",
     "shell.execute_reply": "2024-07-20T12:13:28.659168Z"
    },
    "id": "todbtEWFy0mj"
   },
   "outputs": [
    {
     "name": "stdout",
     "output_type": "stream",
     "text": [
      "Class: stop\n",
      "File: /home/julius/Documents/ml_summerschool/dataset-test/stop/afd53389_nohash_0.wav\n",
      "Sample rate: 16000\n",
      "Sample length: 16000\n"
     ]
    },
    {
     "data": {
      "text/html": [
       "\n",
       "                <audio  controls=\"controls\" >\n",
       "                    <source src=\"data:audio/wav;base64,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\" type=\"audio/wav\" />\n",
       "                    Your browser does not support the audio element.\n",
       "                </audio>\n",
       "              "
      ],
      "text/plain": [
       "<IPython.lib.display.Audio object>"
      ]
     },
     "metadata": {},
     "output_type": "display_data"
    },
    {
     "data": {
      "image/png": "[encoded data removed]",
      "text/plain": [
       "<Figure size 640x480 with 1 Axes>"
      ]
     },
     "metadata": {},
     "output_type": "display_data"
    }
   ],
   "source": [
    "random_audio = get_random_audio_file(test_dir)\n",
    "show_sample(random_audio)"
   ]
  },
  {
   "cell_type": "markdown",
   "metadata": {
    "id": "f-jRIWcQv7xt"
   },
   "source": [
    "## Define the model"
   ]
  },
  {
   "cell_type": "markdown",
   "metadata": {
    "id": "pQj1Mf7YZELS"
   },
   "source": [
    "\n",
    "When using Model Maker to retrain any model, you have to start by defining a model spec. The spec defines the base model from which your new model will extract feature embeddings to begin learning new classes. The spec for this speech recognizer is based on the pre-trained [BrowserFft model from TFJS](https://github.com/tensorflow/tfjs-models/tree/master/speech-commands#speech-command-recognizer).\n",
    "\n",
    "The model expects input as an audio sample that's 44.1 kHz, and just under a second long: the exact sample length must be 44034 frames.\n",
    "\n",
    "You don't need to do any resampling with your training dataset. Model Maker takes care of that for you. But when you later run inference, you must be sure that your input matches that expected format.\n",
    "\n",
    "All you need to do here is instantiate the [`BrowserFftSpec`](https://www.tensorflow.org/lite/api_docs/python/tflite_model_maker/audio_classifier/BrowserFftSpec):\n"
   ]
  },
  {
   "cell_type": "code",
   "execution_count": 34,
   "metadata": {
    "execution": {
     "iopub.execute_input": "2024-07-20T12:13:28.663218Z",
     "iopub.status.busy": "2024-07-20T12:13:28.662945Z",
     "iopub.status.idle": "2024-07-20T12:13:30.230925Z",
     "shell.execute_reply": "2024-07-20T12:13:30.230255Z"
    },
    "id": "tUcxtfHXY7XS"
   },
   "outputs": [
    {
     "name": "stdout",
     "output_type": "stream",
     "text": [
      "INFO:tensorflow:Checkpoints are stored in /tmp/tmpguc66dro\n",
      "Downloading data from https://storage.googleapis.com/tfjs-models/tfjs/speech-commands/conversion/sc_preproc_model.tar.gz\n",
      "24576/18467 [=======================================] - 0s 1us/step\n",
      "32768/18467 [=====================================================] - 0s 1us/step\n",
      "WARNING:tensorflow:SavedModel saved prior to TF 2.5 detected when loading Keras model. Please ensure that you are saving the model with model.save() or tf.keras.models.save_model(), *NOT* tf.saved_model.save(). To confirm, there should be a file named \"keras_metadata.pb\" in the SavedModel directory.\n",
      "WARNING:tensorflow:No training configuration found in save file, so the model was *not* compiled. Compile it manually.\n",
      "Downloading data from https://storage.googleapis.com/tfjs-models/tfjs/speech-commands/v0.3/browser_fft/18w/metadata.json\n"
     ]
    },
    {
     "name": "stderr",
     "output_type": "stream",
     "text": [
      "2025-08-21 17:36:21.205512: W tensorflow/stream_executor/platform/default/dso_loader.cc:64] Could not load dynamic library 'libcuda.so.1'; dlerror: libcuda.so.1: cannot open shared object file: No such file or directory; LD_LIBRARY_PATH: /home/julius/miniconda3/envs/atml/lib/python3.9/site-packages/cv2/../../lib64:\n",
      "2025-08-21 17:36:21.205529: W tensorflow/stream_executor/cuda/cuda_driver.cc:269] failed call to cuInit: UNKNOWN ERROR (303)\n",
      "2025-08-21 17:36:21.205541: I tensorflow/stream_executor/cuda/cuda_diagnostics.cc:156] kernel driver does not appear to be running on this host (kubuntu): /proc/driver/nvidia/version does not exist\n",
      "2025-08-21 17:36:21.205710: I tensorflow/core/platform/cpu_feature_guard.cc:151] This TensorFlow binary is optimized with oneAPI Deep Neural Network Library (oneDNN) to use the following CPU instructions in performance-critical operations:  AVX2 FMA\n",
      "To enable them in other operations, rebuild TensorFlow with the appropriate compiler flags.\n"
     ]
    },
    {
     "name": "stdout",
     "output_type": "stream",
     "text": [
      "16384/203 [=====================================================================================================================================================================================================================================================================================================================================================================================================================================================================================================================================================================================================================================================================================================================================================================================================================================================================================================================================================================================================================================================================================================================================================================================================================================================================================================================================================================================================================================================================================================================================================================================================================================================================================================================================================================================================================================================================================================================================================================================================================================================================================================================================================================================================================================================================================================================================================================================================================================================================================================================] - 0s 0us/step\n",
      "Downloading data from https://storage.googleapis.com/tfjs-models/tfjs/speech-commands/v0.3/browser_fft/18w/model.json\n",
      "16384/5466 [=========================================================================================] - 0s 0us/step\n",
      "Downloading data from https://storage.googleapis.com/tfjs-models/tfjs/speech-commands/v0.3/browser_fft/18w/group1-shard1of2\n",
      "4194304/4194304 [==============================] - 1s 0us/step\n",
      "4202496/4194304 [==============================] - 1s 0us/step\n",
      "Downloading data from https://storage.googleapis.com/tfjs-models/tfjs/speech-commands/v0.3/browser_fft/18w/group1-shard2of2\n",
      "1687552/1680432 [==============================] - 1s 0us/step\n",
      "1695744/1680432 [==============================] - 1s 0us/step\n"
     ]
    }
   ],
   "source": [
    "spec = audio_classifier.BrowserFftSpec()"
   ]
  },
  {
   "cell_type": "markdown",
   "metadata": {
    "id": "maTOoRvAwI9l"
   },
   "source": [
    "## Load your dataset "
   ]
  },
  {
   "cell_type": "markdown",
   "metadata": {
    "id": "UASCEHoVwQ1q"
   },
   "source": [
    "Now you need to load your dataset according to the model specifications. Model Maker includes the [`DataLoader`](https://www.tensorflow.org/lite/api_docs/python/tflite_model_maker/audio_classifier/DataLoader) API, which will load your dataset from a folder and ensure it's in the expected format for the model spec.\n",
    "\n",
    "We already reserved some test files by moving them to a separate directory, which makes it easier to run inference with them later. Now we'll create a `DataLoader` for each split: the training set, the validation set, and the test set."
   ]
  },
  {
   "cell_type": "markdown",
   "metadata": {
    "id": "2OWQ_O9_t-C-"
   },
   "source": [
    "#### Load a custom dataset"
   ]
  },
  {
   "cell_type": "markdown",
   "metadata": {
    "id": "IPiwaJwMt7yo"
   },
   "source": [
    "**Note:** Setting `cache=True` is important to make training faster (especially when the dataset must be re-sampled) but it will also require more RAM to hold the data. If you use a very large custom dataset, caching might exceed your RAM capacity."
   ]
  },
  {
   "cell_type": "code",
   "execution_count": 40,
   "metadata": {
    "cellView": "code",
    "execution": {
     "iopub.execute_input": "2024-07-20T12:13:30.315294Z",
     "iopub.status.busy": "2024-07-20T12:13:30.314616Z",
     "iopub.status.idle": "2024-07-20T12:13:30.318682Z",
     "shell.execute_reply": "2024-07-20T12:13:30.318071Z"
    },
    "id": "e86Ej-ZmuCzy"
   },
   "outputs": [],
   "source": [
    "if use_custom_dataset:\n",
    "  train_data_ratio = 0.8\n",
    "  train_data = audio_classifier.DataLoader.from_folder(\n",
    "      spec, dataset_dir, cache=True)\n",
    "  train_data, validation_data = train_data.split(train_data_ratio)\n",
    "  test_data = audio_classifier.DataLoader.from_folder(\n",
    "      spec, test_dir, cache=True)\n"
   ]
  },
  {
   "cell_type": "markdown",
   "metadata": {
    "id": "hh1P_zfzwbfE"
   },
   "source": [
    "## Train the model\n"
   ]
  },
  {
   "cell_type": "markdown",
   "metadata": {
    "id": "ziMghju-Rts2"
   },
   "source": [
    "Now we'll use the Model Maker [`create()`](https://www.tensorflow.org/lite/api_docs/python/tflite_model_maker/audio_classifier/create) function to create a model based on our model spec and training dataset, and begin training.\n",
    "\n",
    "If you're using a custom dataset, you might want to change the batch size as appropriate for the number of samples in your train set.\n",
    "\n",
    "**Note:** The first epoch takes longer because it must create the cache. "
   ]
  },
  {
   "cell_type": "code",
   "execution_count": 41,
   "metadata": {
    "execution": {
     "iopub.execute_input": "2024-07-20T12:13:30.322141Z",
     "iopub.status.busy": "2024-07-20T12:13:30.321637Z",
     "iopub.status.idle": "2024-07-20T12:14:42.545348Z",
     "shell.execute_reply": "2024-07-20T12:14:42.544473Z"
    },
    "id": "GYaZvaOPgLUC"
   },
   "outputs": [
    {
     "name": "stdout",
     "output_type": "stream",
     "text": [
      "Model: \"sequential_2\"\n",
      "_________________________________________________________________\n",
      " Layer (type)                Output Shape              Param #   \n",
      "=================================================================\n",
      " conv2d_1 (Conv2D)           (None, 42, 225, 8)        136       \n",
      "                                                                 \n",
      " max_pooling2d_1 (MaxPooling  (None, 21, 112, 8)       0         \n",
      " 2D)                                                             \n",
      "                                                                 \n",
      " conv2d_2 (Conv2D)           (None, 20, 109, 32)       2080      \n",
      "                                                                 \n",
      " max_pooling2d_2 (MaxPooling  (None, 10, 54, 32)       0         \n",
      " 2D)                                                             \n",
      "                                                                 \n",
      " conv2d_3 (Conv2D)           (None, 9, 51, 32)         8224      \n",
      "                                                                 \n",
      " max_pooling2d_3 (MaxPooling  (None, 4, 25, 32)        0         \n",
      " 2D)                                                             \n",
      "                                                                 \n",
      " conv2d_4 (Conv2D)           (None, 3, 22, 32)         8224      \n",
      "                                                                 \n",
      " max_pooling2d_4 (MaxPooling  (None, 2, 11, 32)        0         \n",
      " 2D)                                                             \n",
      "                                                                 \n",
      " flatten_1 (Flatten)         (None, 704)               0         \n",
      "                                                                 \n",
      " dropout_1 (Dropout)         (None, 704)               0         \n",
      "                                                                 \n",
      " dense_1 (Dense)             (None, 2000)              1410000   \n",
      "                                                                 \n",
      " dropout_2 (Dropout)         (None, 2000)              0         \n",
      "                                                                 \n",
      " classification_head (Dense)  (None, 2)                4002      \n",
      "                                                                 \n",
      "=================================================================\n",
      "Total params: 1,432,666\n",
      "Trainable params: 4,002\n",
      "Non-trainable params: 1,428,664\n",
      "_________________________________________________________________\n",
      "Epoch 1/64\n",
      "73/73 [==============================] - 18s 236ms/step - loss: 0.3303 - acc: 0.9228 - val_loss: 0.1175 - val_acc: 0.9726\n",
      "Epoch 2/64\n",
      "73/73 [==============================] - 1s 8ms/step - loss: 0.1137 - acc: 0.9618 - val_loss: 0.0616 - val_acc: 0.9897\n",
      "Epoch 3/64\n",
      "73/73 [==============================] - 1s 8ms/step - loss: 0.0689 - acc: 0.9766 - val_loss: 0.0583 - val_acc: 0.9863\n",
      "Epoch 4/64\n",
      "73/73 [==============================] - 1s 8ms/step - loss: 0.0674 - acc: 0.9757 - val_loss: 0.0467 - val_acc: 0.9897\n",
      "Epoch 5/64\n",
      "73/73 [==============================] - 1s 8ms/step - loss: 0.0782 - acc: 0.9775 - val_loss: 0.0421 - val_acc: 0.9966\n",
      "Epoch 6/64\n",
      "73/73 [==============================] - 1s 8ms/step - loss: 0.0478 - acc: 0.9853 - val_loss: 0.0404 - val_acc: 0.9897\n",
      "Epoch 7/64\n",
      "73/73 [==============================] - 1s 8ms/step - loss: 0.0361 - acc: 0.9861 - val_loss: 0.0332 - val_acc: 0.9966\n",
      "Epoch 8/64\n",
      "73/73 [==============================] - 1s 8ms/step - loss: 0.0196 - acc: 0.9922 - val_loss: 0.0348 - val_acc: 0.9966\n",
      "Epoch 9/64\n",
      "73/73 [==============================] - 1s 8ms/step - loss: 0.0325 - acc: 0.9887 - val_loss: 0.0409 - val_acc: 0.9966\n",
      "Epoch 10/64\n",
      "73/73 [==============================] - 1s 8ms/step - loss: 0.0404 - acc: 0.9870 - val_loss: 0.0432 - val_acc: 0.9932\n",
      "Epoch 11/64\n",
      "73/73 [==============================] - 1s 8ms/step - loss: 0.0224 - acc: 0.9913 - val_loss: 0.0396 - val_acc: 0.9932\n",
      "Epoch 12/64\n",
      "73/73 [==============================] - 1s 8ms/step - loss: 0.0303 - acc: 0.9887 - val_loss: 0.0473 - val_acc: 0.9897\n",
      "Epoch 13/64\n",
      "73/73 [==============================] - 1s 8ms/step - loss: 0.0220 - acc: 0.9922 - val_loss: 0.0417 - val_acc: 0.9932\n",
      "Epoch 14/64\n",
      "73/73 [==============================] - 1s 8ms/step - loss: 0.0158 - acc: 0.9948 - val_loss: 0.0516 - val_acc: 0.9863\n",
      "Epoch 15/64\n",
      "73/73 [==============================] - 1s 8ms/step - loss: 0.0258 - acc: 0.9922 - val_loss: 0.0404 - val_acc: 0.9932\n",
      "Epoch 16/64\n",
      "73/73 [==============================] - 1s 8ms/step - loss: 0.0261 - acc: 0.9931 - val_loss: 0.0398 - val_acc: 0.9932\n",
      "Epoch 17/64\n",
      "73/73 [==============================] - 1s 8ms/step - loss: 0.0135 - acc: 0.9957 - val_loss: 0.0358 - val_acc: 0.9932\n",
      "Epoch 18/64\n",
      "73/73 [==============================] - 1s 8ms/step - loss: 0.0148 - acc: 0.9974 - val_loss: 0.0360 - val_acc: 0.9966\n",
      "Epoch 19/64\n",
      "73/73 [==============================] - 1s 8ms/step - loss: 0.0148 - acc: 0.9948 - val_loss: 0.0337 - val_acc: 0.9932\n",
      "Epoch 20/64\n",
      "73/73 [==============================] - 1s 8ms/step - loss: 0.0120 - acc: 0.9974 - val_loss: 0.0335 - val_acc: 0.9897\n",
      "Epoch 21/64\n",
      "73/73 [==============================] - 1s 8ms/step - loss: 0.0197 - acc: 0.9965 - val_loss: 0.0302 - val_acc: 0.9932\n",
      "Epoch 22/64\n",
      "73/73 [==============================] - 1s 8ms/step - loss: 0.0074 - acc: 0.9965 - val_loss: 0.0281 - val_acc: 0.9932\n",
      "Epoch 23/64\n",
      "73/73 [==============================] - 1s 8ms/step - loss: 0.0168 - acc: 0.9948 - val_loss: 0.0335 - val_acc: 0.9932\n",
      "Epoch 24/64\n",
      "73/73 [==============================] - 1s 8ms/step - loss: 0.0107 - acc: 0.9965 - val_loss: 0.0320 - val_acc: 0.9932\n",
      "Epoch 25/64\n",
      "73/73 [==============================] - 1s 8ms/step - loss: 0.0164 - acc: 0.9931 - val_loss: 0.0313 - val_acc: 0.9966\n",
      "Epoch 26/64\n",
      "73/73 [==============================] - 1s 8ms/step - loss: 0.0107 - acc: 0.9965 - val_loss: 0.0293 - val_acc: 0.9966\n",
      "Epoch 27/64\n",
      "73/73 [==============================] - 1s 8ms/step - loss: 0.0041 - acc: 0.9983 - val_loss: 0.0270 - val_acc: 0.9966\n",
      "Epoch 28/64\n",
      "73/73 [==============================] - 1s 8ms/step - loss: 0.0091 - acc: 0.9957 - val_loss: 0.0274 - val_acc: 0.9966\n",
      "Epoch 29/64\n",
      "73/73 [==============================] - 1s 8ms/step - loss: 0.0082 - acc: 0.9965 - val_loss: 0.0343 - val_acc: 0.9966\n",
      "Epoch 30/64\n",
      "73/73 [==============================] - 1s 8ms/step - loss: 0.0104 - acc: 0.9965 - val_loss: 0.0313 - val_acc: 0.9966\n",
      "Epoch 31/64\n",
      "73/73 [==============================] - 1s 8ms/step - loss: 0.0082 - acc: 0.9957 - val_loss: 0.0350 - val_acc: 0.9932\n",
      "Epoch 32/64\n",
      "73/73 [==============================] - 1s 8ms/step - loss: 0.0164 - acc: 0.9948 - val_loss: 0.0409 - val_acc: 0.9966\n",
      "Epoch 33/64\n",
      "73/73 [==============================] - 1s 8ms/step - loss: 0.0125 - acc: 0.9965 - val_loss: 0.0406 - val_acc: 0.9966\n",
      "Epoch 34/64\n",
      "73/73 [==============================] - 1s 8ms/step - loss: 0.0196 - acc: 0.9931 - val_loss: 0.0444 - val_acc: 0.9897\n",
      "Epoch 35/64\n",
      "73/73 [==============================] - 1s 8ms/step - loss: 0.0087 - acc: 0.9948 - val_loss: 0.0438 - val_acc: 0.9932\n",
      "Epoch 36/64\n",
      "73/73 [==============================] - 1s 8ms/step - loss: 0.0074 - acc: 0.9983 - val_loss: 0.0443 - val_acc: 0.9897\n",
      "Epoch 37/64\n",
      "73/73 [==============================] - 1s 8ms/step - loss: 0.0069 - acc: 0.9974 - val_loss: 0.0468 - val_acc: 0.9897\n",
      "Epoch 38/64\n",
      "73/73 [==============================] - 1s 8ms/step - loss: 0.0268 - acc: 0.9931 - val_loss: 0.0404 - val_acc: 0.9932\n",
      "Epoch 39/64\n",
      "73/73 [==============================] - 1s 8ms/step - loss: 0.0113 - acc: 0.9948 - val_loss: 0.0320 - val_acc: 0.9932\n",
      "Epoch 40/64\n",
      "73/73 [==============================] - 1s 8ms/step - loss: 0.0164 - acc: 0.9948 - val_loss: 0.0352 - val_acc: 0.9932\n",
      "Epoch 41/64\n",
      "73/73 [==============================] - 1s 8ms/step - loss: 0.0093 - acc: 0.9983 - val_loss: 0.0368 - val_acc: 0.9932\n",
      "Epoch 42/64\n",
      "73/73 [==============================] - 1s 8ms/step - loss: 0.0068 - acc: 0.9974 - val_loss: 0.0418 - val_acc: 0.9932\n",
      "Epoch 43/64\n",
      "73/73 [==============================] - 1s 8ms/step - loss: 0.0132 - acc: 0.9965 - val_loss: 0.0462 - val_acc: 0.9932\n",
      "Epoch 44/64\n",
      "73/73 [==============================] - 1s 8ms/step - loss: 0.0164 - acc: 0.9965 - val_loss: 0.0397 - val_acc: 0.9932\n",
      "Epoch 45/64\n",
      "73/73 [==============================] - 1s 8ms/step - loss: 0.0342 - acc: 0.9922 - val_loss: 0.0598 - val_acc: 0.9863\n",
      "Epoch 46/64\n",
      "73/73 [==============================] - 1s 8ms/step - loss: 0.0150 - acc: 0.9948 - val_loss: 0.0498 - val_acc: 0.9897\n",
      "Epoch 47/64\n",
      "73/73 [==============================] - 1s 8ms/step - loss: 0.0125 - acc: 0.9948 - val_loss: 0.0468 - val_acc: 0.9932\n",
      "Epoch 48/64\n",
      "73/73 [==============================] - 1s 8ms/step - loss: 0.0222 - acc: 0.9939 - val_loss: 0.0492 - val_acc: 0.9932\n",
      "Epoch 49/64\n",
      "73/73 [==============================] - 1s 8ms/step - loss: 0.0053 - acc: 0.9974 - val_loss: 0.0495 - val_acc: 0.9932\n",
      "Epoch 50/64\n",
      "73/73 [==============================] - 1s 8ms/step - loss: 0.0088 - acc: 0.9965 - val_loss: 0.0529 - val_acc: 0.9932\n",
      "Epoch 51/64\n",
      "73/73 [==============================] - 1s 8ms/step - loss: 0.0219 - acc: 0.9957 - val_loss: 0.0533 - val_acc: 0.9932\n",
      "Epoch 52/64\n",
      "73/73 [==============================] - 1s 8ms/step - loss: 0.0071 - acc: 0.9948 - val_loss: 0.0476 - val_acc: 0.9932\n",
      "Epoch 53/64\n",
      "73/73 [==============================] - 1s 8ms/step - loss: 0.0259 - acc: 0.9939 - val_loss: 0.0365 - val_acc: 0.9966\n",
      "Epoch 54/64\n",
      "73/73 [==============================] - 1s 8ms/step - loss: 0.0225 - acc: 0.9948 - val_loss: 0.0308 - val_acc: 0.9966\n",
      "Epoch 55/64\n",
      "73/73 [==============================] - 1s 8ms/step - loss: 0.0131 - acc: 0.9948 - val_loss: 0.0267 - val_acc: 0.9966\n",
      "Epoch 56/64\n",
      "73/73 [==============================] - 1s 8ms/step - loss: 0.0126 - acc: 0.9965 - val_loss: 0.0261 - val_acc: 0.9932\n",
      "Epoch 57/64\n",
      "73/73 [==============================] - 1s 8ms/step - loss: 0.0102 - acc: 0.9957 - val_loss: 0.0227 - val_acc: 0.9966\n",
      "Epoch 58/64\n",
      "73/73 [==============================] - 1s 8ms/step - loss: 0.0174 - acc: 0.9939 - val_loss: 0.0264 - val_acc: 0.9966\n",
      "Epoch 59/64\n",
      "73/73 [==============================] - 1s 8ms/step - loss: 0.0183 - acc: 0.9948 - val_loss: 0.0363 - val_acc: 0.9966\n",
      "Epoch 60/64\n",
      "73/73 [==============================] - 1s 8ms/step - loss: 0.0020 - acc: 1.0000 - val_loss: 0.0341 - val_acc: 0.9966\n",
      "Epoch 61/64\n",
      "73/73 [==============================] - 1s 8ms/step - loss: 0.0031 - acc: 0.9991 - val_loss: 0.0342 - val_acc: 0.9932\n",
      "Epoch 62/64\n",
      "73/73 [==============================] - 1s 8ms/step - loss: 0.0084 - acc: 0.9974 - val_loss: 0.0373 - val_acc: 0.9966\n",
      "Epoch 63/64\n",
      "73/73 [==============================] - 1s 8ms/step - loss: 0.0035 - acc: 0.9991 - val_loss: 0.0370 - val_acc: 0.9966\n",
      "Epoch 64/64\n",
      "73/73 [==============================] - 1s 8ms/step - loss: 0.0050 - acc: 0.9974 - val_loss: 0.0403 - val_acc: 0.9932\n"
     ]
    }
   ],
   "source": [
    "# If your dataset has fewer than 100 samples per class,\n",
    "# you might want to try a smaller batch size\n",
    "batch_size = 16\n",
    "epochs = 64\n",
    "model = audio_classifier.create(train_data, spec, validation_data, batch_size, epochs)"
   ]
  },
  {
   "cell_type": "markdown",
   "metadata": {
    "id": "mtLuRA2xweZA"
   },
   "source": [
    "## Review the model performance"
   ]
  },
  {
   "cell_type": "markdown",
   "metadata": {
    "id": "oXMEHZkAxJTl"
   },
   "source": [
    "Even if the accuracy/loss looks good from the training output above, it's important to also run the model using test data that the model has not seen yet, which is what the `evaluate()` method does here:"
   ]
  },
  {
   "cell_type": "code",
   "execution_count": 42,
   "metadata": {
    "execution": {
     "iopub.execute_input": "2024-07-20T12:14:42.550570Z",
     "iopub.status.busy": "2024-07-20T12:14:42.549901Z",
     "iopub.status.idle": "2024-07-20T12:14:44.635342Z",
     "shell.execute_reply": "2024-07-20T12:14:44.634524Z"
    },
    "id": "n_4MGpzhWVhr"
   },
   "outputs": [
    {
     "name": "stdout",
     "output_type": "stream",
     "text": [
      "23/23 [==============================] - 9s 375ms/step - loss: 0.0203 - acc: 0.9930\n"
     ]
    },
    {
     "data": {
      "text/plain": [
       "[0.020274130627512932, 0.9930264949798584]"
      ]
     },
     "execution_count": 42,
     "metadata": {},
     "output_type": "execute_result"
    }
   ],
   "source": [
    "model.evaluate(test_data)"
   ]
  },
  {
   "cell_type": "markdown",
   "metadata": {
    "id": "HqvpAnqsVExO"
   },
   "source": [
    "### View the confusion matrix"
   ]
  },
  {
   "cell_type": "markdown",
   "metadata": {
    "id": "8QRRAM39aOxS"
   },
   "source": [
    "When training a classification model such as this one, it's also useful to inspect the [confusion matrix](https://en.wikipedia.org/wiki/Confusion_matrix). The confusion matrix gives you detailed visual representation of how well your classifier performs for each classification in your test data."
   ]
  },
  {
   "cell_type": "code",
   "execution_count": 43,
   "metadata": {
    "execution": {
     "iopub.execute_input": "2024-07-20T12:14:44.639271Z",
     "iopub.status.busy": "2024-07-20T12:14:44.638980Z",
     "iopub.status.idle": "2024-07-20T12:14:46.939485Z",
     "shell.execute_reply": "2024-07-20T12:14:46.938767Z"
    },
    "id": "zqB3c0368iH3"
   },
   "outputs": [
    {
     "data": {
      "image/png": "[encoded data removed]",
      "text/plain": [
       "<Figure size 600x600 with 1 Axes>"
      ]
     },
     "metadata": {},
     "output_type": "display_data"
    }
   ],
   "source": [
    "def show_confusion_matrix(confusion, test_labels):\n",
    "  \"\"\"Compute confusion matrix and normalize.\"\"\"\n",
    "  confusion_normalized = confusion.astype(\"float\") / confusion.sum(axis=1)\n",
    "  sns.set(rc = {'figure.figsize':(6,6)})\n",
    "  sns.heatmap(\n",
    "      confusion_normalized, xticklabels=test_labels, yticklabels=test_labels,\n",
    "      cmap='Blues', annot=True, fmt='.2f', square=True, cbar=False)\n",
    "  plt.title(\"Confusion matrix\")\n",
    "  plt.ylabel(\"True label\")\n",
    "  plt.xlabel(\"Predicted label\")\n",
    "\n",
    "confusion_matrix = model.confusion_matrix(test_data)\n",
    "show_confusion_matrix(confusion_matrix.numpy(), test_data.index_to_label)"
   ]
  },
  {
   "cell_type": "markdown",
   "metadata": {
    "id": "yASrikBgZ9ZO"
   },
   "source": [
    "## Export the model\n",
    "\n",
    "The last step is exporting your model into the TensorFlow Lite format for execution on mobile/embedded devices and into the [SavedModel format](https://www.tensorflow.org/guide/saved_model) for execution elsewhere.\n",
    "\n",
    "When exporting a `.tflite` file from Model Maker, it includes [model metadata](https://www.tensorflow.org/lite/inference_with_metadata/overview) that describes various details that can later help during inference. It even includes a copy of the classification labels file, so you don't need to a separate `labels.txt` file. (In the next section, we show how to use this metadata to run an inference.)"
   ]
  },
  {
   "cell_type": "code",
   "execution_count": 44,
   "metadata": {
    "execution": {
     "iopub.execute_input": "2024-07-20T12:14:46.943278Z",
     "iopub.status.busy": "2024-07-20T12:14:46.943026Z",
     "iopub.status.idle": "2024-07-20T12:14:46.946161Z",
     "shell.execute_reply": "2024-07-20T12:14:46.945581Z"
    },
    "id": "4gEf59NfGWjq"
   },
   "outputs": [],
   "source": [
    "TFLITE_FILENAME = 'browserfft-speech.tflite'\n",
    "SAVE_PATH = './models'"
   ]
  },
  {
   "cell_type": "code",
   "execution_count": 45,
   "metadata": {
    "execution": {
     "iopub.execute_input": "2024-07-20T12:14:46.949116Z",
     "iopub.status.busy": "2024-07-20T12:14:46.948888Z",
     "iopub.status.idle": "2024-07-20T12:14:53.063594Z",
     "shell.execute_reply": "2024-07-20T12:14:53.062925Z"
    },
    "id": "Xw_ehPxAdQlz"
   },
   "outputs": [
    {
     "name": "stdout",
     "output_type": "stream",
     "text": [
      "Exporing the model to ./models\n"
     ]
    },
    {
     "name": "stderr",
     "output_type": "stream",
     "text": [
      "2025-08-21 17:45:31.525010: W tensorflow/python/util/util.cc:368] Sets are not currently considered sequences, but this may change in the future, so consider avoiding using them.\n"
     ]
    },
    {
     "name": "stdout",
     "output_type": "stream",
     "text": [
      "INFO:tensorflow:Assets written to: /tmp/tmpulp05j4h/assets\n"
     ]
    },
    {
     "name": "stderr",
     "output_type": "stream",
     "text": [
      "2025-08-21 17:45:32.546146: I tensorflow/core/grappler/devices.cc:66] Number of eligible GPUs (core count >= 8, compute capability >= 0.0): 0\n",
      "2025-08-21 17:45:32.546302: I tensorflow/core/grappler/clusters/single_machine.cc:358] Starting new session\n",
      "2025-08-21 17:45:32.561559: I tensorflow/core/grappler/optimizers/meta_optimizer.cc:1164] Optimization results for grappler item: graph_to_optimize\n",
      "  function_optimizer: Graph size after: 225 nodes (167), 367 edges (297), time = 4.149ms.\n",
      "  function_optimizer: Graph size after: 225 nodes (0), 367 edges (0), time = 2.029ms.\n",
      "Optimization results for grappler item: __inference_Assert_AssertGuard_true_663_104\n",
      "  function_optimizer: function_optimizer did nothing. time = 0.003ms.\n",
      "  function_optimizer: function_optimizer did nothing. time = 0.001ms.\n",
      "Optimization results for grappler item: __inference_Assert_AssertGuard_false_96_180\n",
      "  function_optimizer: function_optimizer did nothing. time = 0.001ms.\n",
      "  function_optimizer: function_optimizer did nothing. time = 0.001ms.\n",
      "Optimization results for grappler item: __inference_cond_true_217_208\n",
      "  function_optimizer: Graph size after: 9 nodes (0), 10 edges (0), time = 0.107ms.\n",
      "  function_optimizer: Graph size after: 9 nodes (0), 10 edges (0), time = 0.098ms.\n",
      "Optimization results for grappler item: __inference_Assert_AssertGuard_true_298_41\n",
      "  function_optimizer: function_optimizer did nothing. time = 0ms.\n",
      "  function_optimizer: function_optimizer did nothing. time = 0ms.\n",
      "Optimization results for grappler item: __inference_Assert_AssertGuard_true_95_116\n",
      "  function_optimizer: function_optimizer did nothing. time = 0.001ms.\n",
      "  function_optimizer: function_optimizer did nothing. time = 0.001ms.\n",
      "Optimization results for grappler item: __inference_Assert_1_AssertGuard_true_114_192\n",
      "  function_optimizer: function_optimizer did nothing. time = 0ms.\n",
      "  function_optimizer: function_optimizer did nothing. time = 0.001ms.\n",
      "Optimization results for grappler item: __inference_Assert_1_AssertGuard_false_115_86\n",
      "  function_optimizer: function_optimizer did nothing. time = 0.001ms.\n",
      "  function_optimizer: function_optimizer did nothing. time = 0ms.\n",
      "Optimization results for grappler item: __inference_Assert_AssertGuard_false_664_174\n",
      "  function_optimizer: function_optimizer did nothing. time = 0.001ms.\n",
      "  function_optimizer: function_optimizer did nothing. time = 0ms.\n",
      "Optimization results for grappler item: __inference_cond_false_218_162\n",
      "  function_optimizer: Graph size after: 15 nodes (0), 14 edges (0), time = 0.144ms.\n",
      "  function_optimizer: Graph size after: 15 nodes (0), 14 edges (0), time = 0.127ms.\n",
      "Optimization results for grappler item: __inference_cond_Assert_AssertGuard_false_225_73\n",
      "  function_optimizer: function_optimizer did nothing. time = 0.001ms.\n",
      "  function_optimizer: function_optimizer did nothing. time = 0.001ms.\n",
      "Optimization results for grappler item: __inference_cond_Assert_AssertGuard_true_224_198\n",
      "  function_optimizer: function_optimizer did nothing. time = 0.001ms.\n",
      "  function_optimizer: function_optimizer did nothing. time = 0ms.\n",
      "Optimization results for grappler item: __inference_Assert_AssertGuard_true_197_186\n",
      "  function_optimizer: function_optimizer did nothing. time = 0.001ms.\n",
      "  function_optimizer: function_optimizer did nothing. time = 0ms.\n",
      "Optimization results for grappler item: __inference_Assert_AssertGuard_false_299_47\n",
      "  function_optimizer: function_optimizer did nothing. time = 0ms.\n",
      "  function_optimizer: function_optimizer did nothing. time = 0.001ms.\n",
      "Optimization results for grappler item: __inference_cond_Assert_AssertGuard_true_249_110\n",
      "  function_optimizer: function_optimizer did nothing. time = 0.001ms.\n",
      "  function_optimizer: function_optimizer did nothing. time = 0ms.\n",
      "Optimization results for grappler item: __inference_cond_Assert_AssertGuard_false_250_146\n",
      "  function_optimizer: function_optimizer did nothing. time = 0.001ms.\n",
      "  function_optimizer: function_optimizer did nothing. time = 0ms.\n",
      "Optimization results for grappler item: __inference_Assert_AssertGuard_false_198_18\n",
      "  function_optimizer: function_optimizer did nothing. time = 0ms.\n",
      "  function_optimizer: function_optimizer did nothing. time = 0ms.\n",
      "\n",
      "2025-08-21 17:45:32.707885: W tensorflow/compiler/mlir/lite/python/tf_tfl_flatbuffer_helpers.cc:357] Ignored output_format.\n",
      "2025-08-21 17:45:32.707908: W tensorflow/compiler/mlir/lite/python/tf_tfl_flatbuffer_helpers.cc:360] Ignored drop_control_dependency.\n"
     ]
    },
    {
     "name": "stdout",
     "output_type": "stream",
     "text": [
      "INFO:tensorflow:TensorFlow Lite model exported successfully: ./models/browserfft-speech.tflite\n"
     ]
    },
    {
     "name": "stderr",
     "output_type": "stream",
     "text": [
      "INFO:tensorflow:TensorFlow Lite model exported successfully: ./models/browserfft-speech.tflite\n"
     ]
    },
    {
     "name": "stdout",
     "output_type": "stream",
     "text": [
      "WARNING:tensorflow:Compiled the loaded model, but the compiled metrics have yet to be built. `model.compile_metrics` will be empty until you train or evaluate the model.\n"
     ]
    },
    {
     "name": "stderr",
     "output_type": "stream",
     "text": [
      "WARNING:tensorflow:Compiled the loaded model, but the compiled metrics have yet to be built. `model.compile_metrics` will be empty until you train or evaluate the model.\n"
     ]
    },
    {
     "name": "stdout",
     "output_type": "stream",
     "text": [
      "INFO:tensorflow:Assets written to: ./models/saved_model/assets\n"
     ]
    },
    {
     "name": "stderr",
     "output_type": "stream",
     "text": [
      "INFO:tensorflow:Assets written to: ./models/saved_model/assets\n"
     ]
    },
    {
     "name": "stdout",
     "output_type": "stream",
     "text": [
      "INFO:tensorflow:Saving labels in ./models/labels.txt\n"
     ]
    },
    {
     "name": "stderr",
     "output_type": "stream",
     "text": [
      "INFO:tensorflow:Saving labels in ./models/labels.txt\n"
     ]
    }
   ],
   "source": [
    "print(f'Exporing the model to {SAVE_PATH}')\n",
    "model.export(SAVE_PATH, tflite_filename=TFLITE_FILENAME)\n",
    "model.export(SAVE_PATH, export_format=[mm.ExportFormat.SAVED_MODEL, mm.ExportFormat.LABEL])"
   ]
  },
  {
   "cell_type": "markdown",
   "metadata": {
    "id": "lIC1ddGq6xQX"
   },
   "source": [
    "## Run inference with TF Lite model"
   ]
  },
  {
   "cell_type": "markdown",
   "metadata": {
    "id": "5xr0idac6xfi"
   },
   "source": [
    "Now your TFLite model can be deployed and run using any of the supported [inferencing libraries](https://www.tensorflow.org/lite/guide/inference) or with the new [TFLite AudioClassifier Task API](https://www.tensorflow.org/lite/inference_with_metadata/task_library/audio_classifier). The following code shows how you can run inference with the `.tflite` model in Python."
   ]
  },
  {
   "cell_type": "code",
   "execution_count": null,
   "metadata": {
    "execution": {
     "iopub.execute_input": "2024-07-20T12:14:53.067187Z",
     "iopub.status.busy": "2024-07-20T12:14:53.066944Z",
     "iopub.status.idle": "2024-07-20T12:14:54.256925Z",
     "shell.execute_reply": "2024-07-20T12:14:54.255695Z"
    },
    "id": "nR5zV53YbCIQ"
   },
   "outputs": [],
   "source": [
    "# This library provides the TFLite metadata API\n",
    "! pip install -q tflite_support"
   ]
  },
  {
   "cell_type": "code",
   "execution_count": 46,
   "metadata": {
    "execution": {
     "iopub.execute_input": "2024-07-20T12:14:54.261447Z",
     "iopub.status.busy": "2024-07-20T12:14:54.261155Z",
     "iopub.status.idle": "2024-07-20T12:14:54.267826Z",
     "shell.execute_reply": "2024-07-20T12:14:54.267248Z"
    },
    "id": "1AC7PRyiayU5"
   },
   "outputs": [],
   "source": [
    "from tflite_support import metadata\n",
    "import json\n",
    "\n",
    "def get_labels(model):\n",
    "  \"\"\"Returns a list of labels, extracted from the model metadata.\"\"\"\n",
    "  displayer = metadata.MetadataDisplayer.with_model_file(model)\n",
    "  labels_file = displayer.get_packed_associated_file_list()[0]\n",
    "  labels = displayer.get_associated_file_buffer(labels_file).decode()\n",
    "  return [line for line in labels.split('\\n')]\n",
    "\n",
    "def get_input_sample_rate(model):\n",
    "  \"\"\"Returns the model's expected sample rate, from the model metadata.\"\"\"\n",
    "  displayer = metadata.MetadataDisplayer.with_model_file(model)\n",
    "  metadata_json = json.loads(displayer.get_metadata_json())\n",
    "  input_tensor_metadata = metadata_json['subgraph_metadata'][0][\n",
    "          'input_tensor_metadata'][0]\n",
    "  input_content_props = input_tensor_metadata['content']['content_properties']\n",
    "  return input_content_props['sample_rate']"
   ]
  },
  {
   "cell_type": "markdown",
   "metadata": {
    "id": "yC7TEvQ9o4mu"
   },
   "source": [
    "To observe how well the model performs with real samples, run the following code block over and over. Each time, it will fetch a new test sample and run inference with it, and you can listen to the audio sample below."
   ]
  },
  {
   "cell_type": "code",
   "execution_count": 53,
   "metadata": {
    "execution": {
     "iopub.execute_input": "2024-07-20T12:14:54.271311Z",
     "iopub.status.busy": "2024-07-20T12:14:54.270923Z",
     "iopub.status.idle": "2024-07-20T12:14:54.582905Z",
     "shell.execute_reply": "2024-07-20T12:14:54.582288Z"
    },
    "id": "loU6PleipSPf"
   },
   "outputs": [
    {
     "name": "stdout",
     "output_type": "stream",
     "text": [
      "---prediction---\n",
      "Class: background\n",
      "Score: 1.0\n",
      "----truth----\n",
      "Class: background\n",
      "File: /home/julius/Documents/ml_summerschool/dataset-test/background/36050ef3_nohash_1_1.wav\n",
      "Sample rate: 16000\n",
      "Sample length: 16000\n"
     ]
    },
    {
     "data": {
      "text/html": [
       "\n",
       "                <audio  controls=\"controls\" >\n",
       "                    <source src=\"data:audio/wav;base64,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\" type=\"audio/wav\" />\n",
       "                    Your browser does not support the audio element.\n",
       "                </audio>\n",
       "              "
      ],
      "text/plain": [
       "<IPython.lib.display.Audio object>"
      ]
     },
     "metadata": {},
     "output_type": "display_data"
    },
    {
     "data": {
      "image/png": "[encoded data removed]",
      "text/plain": [
       "<Figure size 600x600 with 1 Axes>"
      ]
     },
     "metadata": {},
     "output_type": "display_data"
    }
   ],
   "source": [
    "# Get a WAV file for inference and list of labels from the model\n",
    "tflite_file = os.path.join(SAVE_PATH, TFLITE_FILENAME)\n",
    "labels = get_labels(tflite_file)\n",
    "random_audio = get_random_audio_file(test_dir)\n",
    "\n",
    "# Ensure the audio sample fits the model input\n",
    "interpreter = tf.lite.Interpreter(tflite_file)\n",
    "input_details = interpreter.get_input_details()\n",
    "output_details = interpreter.get_output_details()\n",
    "input_size = input_details[0]['shape'][1]\n",
    "sample_rate = get_input_sample_rate(tflite_file)\n",
    "audio_data, _ = librosa.load(random_audio, sr=sample_rate)\n",
    "if len(audio_data) < input_size:\n",
    "  audio_data.resize(input_size)\n",
    "audio_data = np.expand_dims(audio_data[:input_size], axis=0)\n",
    "\n",
    "# Run inference\n",
    "interpreter.allocate_tensors()\n",
    "interpreter.set_tensor(input_details[0]['index'], audio_data)\n",
    "interpreter.invoke()\n",
    "output_data = interpreter.get_tensor(output_details[0]['index'])\n",
    "\n",
    "# Display prediction and ground truth\n",
    "top_index = np.argmax(output_data[0])\n",
    "label = labels[top_index]\n",
    "score = output_data[0][top_index]\n",
    "print('---prediction---')\n",
    "print(f'Class: {label}\\nScore: {score}')\n",
    "print('----truth----')\n",
    "show_sample(random_audio)"
   ]
  },
  {
   "cell_type": "code",
   "execution_count": 54,
   "metadata": {},
   "outputs": [],
   "source": [
    "def generate_header_file(tflite_model_path, header_path):\n",
    "    \"\"\"Generate a C header file from a TFLite model.\"\"\"\n",
    "    # Read the TFLite model binary\n",
    "    with open(tflite_model_path, 'rb') as f:\n",
    "        model_bytes = f.read()\n",
    "    \n",
    "    # Convert bytes to hex representation\n",
    "    hex_lines = []\n",
    "    for i, byte in enumerate(model_bytes):\n",
    "        if i % 12 == 0:\n",
    "            hex_lines.append('\\n  ')\n",
    "        hex_lines.append(f'0x{byte:02x},')\n",
    "    \n",
    "    # Write the header file\n",
    "    with open(header_path, 'w') as f:\n",
    "        f.write('const unsigned char model[] = {')\n",
    "        f.write(''.join(hex_lines))\n",
    "        f.write('\\n};\\n')\n",
    "        f.write(f'const unsigned int model_len = {len(model_bytes)};\\n')"
   ]
  },
  {
   "cell_type": "code",
   "execution_count": 55,
   "metadata": {},
   "outputs": [
    {
     "name": "stdout",
     "output_type": "stream",
     "text": [
      "\n",
      "Converting model to TFLite format...\n"
     ]
    },
    {
     "ename": "AttributeError",
     "evalue": "'AudioClassifier' object has no attribute 'call'",
     "output_type": "error",
     "traceback": [
      "\u001b[0;31m---------------------------------------------------------------------------\u001b[0m",
      "\u001b[0;31mAttributeError\u001b[0m                            Traceback (most recent call last)",
      "Cell \u001b[0;32mIn[55], line 3\u001b[0m\n\u001b[1;32m      1\u001b[0m \u001b[38;5;28mprint\u001b[39m(\u001b[38;5;124m\"\u001b[39m\u001b[38;5;130;01m\\n\u001b[39;00m\u001b[38;5;124mConverting model to TFLite format...\u001b[39m\u001b[38;5;124m\"\u001b[39m)\n\u001b[1;32m      2\u001b[0m converter \u001b[38;5;241m=\u001b[39m tf\u001b[38;5;241m.\u001b[39mlite\u001b[38;5;241m.\u001b[39mTFLiteConverter\u001b[38;5;241m.\u001b[39mfrom_keras_model(model)\n\u001b[0;32m----> 3\u001b[0m tflite_model \u001b[38;5;241m=\u001b[39m \u001b[43mconverter\u001b[49m\u001b[38;5;241;43m.\u001b[39;49m\u001b[43mconvert\u001b[49m\u001b[43m(\u001b[49m\u001b[43m)\u001b[49m\n\u001b[1;32m      5\u001b[0m \u001b[38;5;66;03m# Save the model\u001b[39;00m\n\u001b[1;32m      6\u001b[0m \u001b[38;5;28mopen\u001b[39m(\u001b[38;5;124m\"\u001b[39m\u001b[38;5;124mgesture_model.tflite\u001b[39m\u001b[38;5;124m\"\u001b[39m, \u001b[38;5;124m\"\u001b[39m\u001b[38;5;124mwb\u001b[39m\u001b[38;5;124m\"\u001b[39m)\u001b[38;5;241m.\u001b[39mwrite(tflite_model)\n",
      "File \u001b[0;32m~/miniconda3/envs/atml/lib/python3.9/site-packages/tensorflow/lite/python/lite.py:803\u001b[0m, in \u001b[0;36m_export_metrics.<locals>.wrapper\u001b[0;34m(self, *args, **kwargs)\u001b[0m\n\u001b[1;32m    800\u001b[0m \u001b[38;5;129m@functools\u001b[39m\u001b[38;5;241m.\u001b[39mwraps(convert_func)\n\u001b[1;32m    801\u001b[0m \u001b[38;5;28;01mdef\u001b[39;00m\u001b[38;5;250m \u001b[39m\u001b[38;5;21mwrapper\u001b[39m(\u001b[38;5;28mself\u001b[39m, \u001b[38;5;241m*\u001b[39margs, \u001b[38;5;241m*\u001b[39m\u001b[38;5;241m*\u001b[39mkwargs):\n\u001b[1;32m    802\u001b[0m   \u001b[38;5;66;03m# pylint: disable=protected-access\u001b[39;00m\n\u001b[0;32m--> 803\u001b[0m   \u001b[38;5;28;01mreturn\u001b[39;00m \u001b[38;5;28;43mself\u001b[39;49m\u001b[38;5;241;43m.\u001b[39;49m\u001b[43m_convert_and_export_metrics\u001b[49m\u001b[43m(\u001b[49m\u001b[43mconvert_func\u001b[49m\u001b[43m,\u001b[49m\u001b[43m \u001b[49m\u001b[38;5;241;43m*\u001b[39;49m\u001b[43margs\u001b[49m\u001b[43m,\u001b[49m\u001b[43m \u001b[49m\u001b[38;5;241;43m*\u001b[39;49m\u001b[38;5;241;43m*\u001b[39;49m\u001b[43mkwargs\u001b[49m\u001b[43m)\u001b[49m\n",
      "File \u001b[0;32m~/miniconda3/envs/atml/lib/python3.9/site-packages/tensorflow/lite/python/lite.py:789\u001b[0m, in \u001b[0;36mTFLiteConverterBase._convert_and_export_metrics\u001b[0;34m(self, convert_func, *args, **kwargs)\u001b[0m\n\u001b[1;32m    787\u001b[0m \u001b[38;5;28mself\u001b[39m\u001b[38;5;241m.\u001b[39m_save_conversion_params_metric()\n\u001b[1;32m    788\u001b[0m start_time \u001b[38;5;241m=\u001b[39m time\u001b[38;5;241m.\u001b[39mprocess_time()\n\u001b[0;32m--> 789\u001b[0m result \u001b[38;5;241m=\u001b[39m \u001b[43mconvert_func\u001b[49m\u001b[43m(\u001b[49m\u001b[38;5;28;43mself\u001b[39;49m\u001b[43m,\u001b[49m\u001b[43m \u001b[49m\u001b[38;5;241;43m*\u001b[39;49m\u001b[43margs\u001b[49m\u001b[43m,\u001b[49m\u001b[43m \u001b[49m\u001b[38;5;241;43m*\u001b[39;49m\u001b[38;5;241;43m*\u001b[39;49m\u001b[43mkwargs\u001b[49m\u001b[43m)\u001b[49m\n\u001b[1;32m    790\u001b[0m elapsed_time_ms \u001b[38;5;241m=\u001b[39m (time\u001b[38;5;241m.\u001b[39mprocess_time() \u001b[38;5;241m-\u001b[39m start_time) \u001b[38;5;241m*\u001b[39m \u001b[38;5;241m1000\u001b[39m\n\u001b[1;32m    791\u001b[0m \u001b[38;5;28;01mif\u001b[39;00m result:\n",
      "File \u001b[0;32m~/miniconda3/envs/atml/lib/python3.9/site-packages/tensorflow/lite/python/lite.py:1215\u001b[0m, in \u001b[0;36mTFLiteKerasModelConverterV2.convert\u001b[0;34m(self)\u001b[0m\n\u001b[1;32m   1211\u001b[0m \u001b[38;5;28;01mif\u001b[39;00m saved_model_convert_result:\n\u001b[1;32m   1212\u001b[0m   \u001b[38;5;28;01mreturn\u001b[39;00m saved_model_convert_result\n\u001b[1;32m   1214\u001b[0m graph_def, input_tensors, output_tensors, frozen_func \u001b[38;5;241m=\u001b[39m (\n\u001b[0;32m-> 1215\u001b[0m     \u001b[38;5;28;43mself\u001b[39;49m\u001b[38;5;241;43m.\u001b[39;49m\u001b[43m_freeze_keras_model\u001b[49m\u001b[43m(\u001b[49m\u001b[43m)\u001b[49m)\n\u001b[1;32m   1217\u001b[0m graph_def \u001b[38;5;241m=\u001b[39m \u001b[38;5;28mself\u001b[39m\u001b[38;5;241m.\u001b[39m_optimize_tf_model(graph_def, input_tensors,\n\u001b[1;32m   1218\u001b[0m                                     output_tensors, frozen_func)\n\u001b[1;32m   1220\u001b[0m \u001b[38;5;28;01mreturn\u001b[39;00m \u001b[38;5;28msuper\u001b[39m(TFLiteKerasModelConverterV2,\n\u001b[1;32m   1221\u001b[0m              \u001b[38;5;28mself\u001b[39m)\u001b[38;5;241m.\u001b[39mconvert(graph_def, input_tensors, output_tensors)\n",
      "File \u001b[0;32m~/miniconda3/envs/atml/lib/python3.9/site-packages/tensorflow/lite/python/convert_phase.py:216\u001b[0m, in \u001b[0;36mconvert_phase.<locals>.actual_decorator.<locals>.wrapper\u001b[0;34m(*args, **kwargs)\u001b[0m\n\u001b[1;32m    214\u001b[0m \u001b[38;5;28;01mexcept\u001b[39;00m \u001b[38;5;167;01mException\u001b[39;00m \u001b[38;5;28;01mas\u001b[39;00m error:\n\u001b[1;32m    215\u001b[0m   report_error_message(\u001b[38;5;28mstr\u001b[39m(error))\n\u001b[0;32m--> 216\u001b[0m   \u001b[38;5;28;01mraise\u001b[39;00m error \u001b[38;5;28;01mfrom\u001b[39;00m\u001b[38;5;250m \u001b[39m\u001b[38;5;28;01mNone\u001b[39;00m\n",
      "File \u001b[0;32m~/miniconda3/envs/atml/lib/python3.9/site-packages/tensorflow/lite/python/convert_phase.py:206\u001b[0m, in \u001b[0;36mconvert_phase.<locals>.actual_decorator.<locals>.wrapper\u001b[0;34m(*args, **kwargs)\u001b[0m\n\u001b[1;32m    203\u001b[0m \u001b[38;5;129m@functools\u001b[39m\u001b[38;5;241m.\u001b[39mwraps(func)\n\u001b[1;32m    204\u001b[0m \u001b[38;5;28;01mdef\u001b[39;00m\u001b[38;5;250m \u001b[39m\u001b[38;5;21mwrapper\u001b[39m(\u001b[38;5;241m*\u001b[39margs, \u001b[38;5;241m*\u001b[39m\u001b[38;5;241m*\u001b[39mkwargs):\n\u001b[1;32m    205\u001b[0m   \u001b[38;5;28;01mtry\u001b[39;00m:\n\u001b[0;32m--> 206\u001b[0m     \u001b[38;5;28;01mreturn\u001b[39;00m \u001b[43mfunc\u001b[49m\u001b[43m(\u001b[49m\u001b[38;5;241;43m*\u001b[39;49m\u001b[43margs\u001b[49m\u001b[43m,\u001b[49m\u001b[43m \u001b[49m\u001b[38;5;241;43m*\u001b[39;49m\u001b[38;5;241;43m*\u001b[39;49m\u001b[43mkwargs\u001b[49m\u001b[43m)\u001b[49m\n\u001b[1;32m    207\u001b[0m   \u001b[38;5;28;01mexcept\u001b[39;00m ConverterError \u001b[38;5;28;01mas\u001b[39;00m converter_error:\n\u001b[1;32m    208\u001b[0m     \u001b[38;5;28;01mif\u001b[39;00m converter_error\u001b[38;5;241m.\u001b[39merrors:\n",
      "File \u001b[0;32m~/miniconda3/envs/atml/lib/python3.9/site-packages/tensorflow/lite/python/lite.py:1158\u001b[0m, in \u001b[0;36mTFLiteKerasModelConverterV2._freeze_keras_model\u001b[0;34m(self)\u001b[0m\n\u001b[1;32m   1152\u001b[0m input_signature \u001b[38;5;241m=\u001b[39m \u001b[38;5;28;01mNone\u001b[39;00m\n\u001b[1;32m   1153\u001b[0m \u001b[38;5;66;03m# If the model's call is not a `tf.function`, then we need to first get its\u001b[39;00m\n\u001b[1;32m   1154\u001b[0m \u001b[38;5;66;03m# input signature from `model_input_signature` method. We can't directly\u001b[39;00m\n\u001b[1;32m   1155\u001b[0m \u001b[38;5;66;03m# call `trace_model_call` because otherwise the batch dimension is set\u001b[39;00m\n\u001b[1;32m   1156\u001b[0m \u001b[38;5;66;03m# to None.\u001b[39;00m\n\u001b[1;32m   1157\u001b[0m \u001b[38;5;66;03m# Once we have better support for dynamic shapes, we can remove this.\u001b[39;00m\n\u001b[0;32m-> 1158\u001b[0m \u001b[38;5;28;01mif\u001b[39;00m \u001b[38;5;129;01mnot\u001b[39;00m \u001b[38;5;28misinstance\u001b[39m(\u001b[38;5;28;43mself\u001b[39;49m\u001b[38;5;241;43m.\u001b[39;49m\u001b[43m_keras_model\u001b[49m\u001b[38;5;241;43m.\u001b[39;49m\u001b[43mcall\u001b[49m, _def_function\u001b[38;5;241m.\u001b[39mFunction):\n\u001b[1;32m   1159\u001b[0m   \u001b[38;5;66;03m# Pass `keep_original_batch_size=True` will ensure that we get an input\u001b[39;00m\n\u001b[1;32m   1160\u001b[0m   \u001b[38;5;66;03m# signature including the batch dimension specified by the user.\u001b[39;00m\n\u001b[1;32m   1161\u001b[0m   \u001b[38;5;66;03m# TODO(b/169898786): Use the Keras public API when TFLite moves out of TF\u001b[39;00m\n\u001b[1;32m   1162\u001b[0m   input_signature \u001b[38;5;241m=\u001b[39m _model_input_signature(\n\u001b[1;32m   1163\u001b[0m       \u001b[38;5;28mself\u001b[39m\u001b[38;5;241m.\u001b[39m_keras_model, keep_original_batch_size\u001b[38;5;241m=\u001b[39m\u001b[38;5;28;01mTrue\u001b[39;00m)\n\u001b[1;32m   1165\u001b[0m \u001b[38;5;66;03m# TODO(b/169898786): Use the Keras public API when TFLite moves out of TF\u001b[39;00m\n",
      "\u001b[0;31mAttributeError\u001b[0m: 'AudioClassifier' object has no attribute 'call'"
     ]
    }
   ],
   "source": [
    "print(\"\\nConverting model to TFLite format...\")\n",
    "converter = tf.lite.TFLiteConverter.from_keras_model(model)\n",
    "tflite_model = converter.convert()\n",
    "\n",
    "# Save the model\n",
    "open(\"gesture_model.tflite\", \"wb\").write(tflite_model)\n",
    "basic_model_size = os.path.getsize(\"gesture_model.tflite\")\n",
    "print(\"Model is %d bytes\" % basic_model_size)\n",
    "\n",
    "# Generate header file\n",
    "os.makedirs('./output', exist_ok=True)\n",
    "header_path = './output/model.h'\n",
    "generate_header_file('gesture_model.tflite', header_path)\n",
    "\n",
    "model_h_size = os.path.getsize(header_path)\n",
    "print(f\"Header file, model.h, is {model_h_size:,} bytes.\")\n",
    "print(\"\\nModel has been converted to model.h in the output directory.\")\n"
   ]
  }
 ],
 "metadata": {
  "accelerator": "GPU",
  "colab": {
   "collapsed_sections": [],
   "name": "model_maker_speech_recognition.ipynb",
   "private_outputs": true,
   "provenance": [],
   "toc_visible": true
  },
  "kernelspec": {
   "display_name": "atml",
   "language": "python",
   "name": "python3"
  },
  "language_info": {
   "codemirror_mode": {
    "name": "ipython",
    "version": 3
   },
   "file_extension": ".py",
   "mimetype": "text/x-python",
   "name": "python",
   "nbconvert_exporter": "python",
   "pygments_lexer": "ipython3",
   "version": "3.9.23"
  }
 },
 "nbformat": 4,
 "nbformat_minor": 0
}
